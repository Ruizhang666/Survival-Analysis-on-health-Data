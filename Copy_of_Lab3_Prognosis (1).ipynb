{
  "nbformat": 4,
  "nbformat_minor": 0,
  "metadata": {
    "colab": {
      "provenance": []
    },
    "kernelspec": {
      "name": "python3",
      "display_name": "Python 3"
    }
  },
  "cells": [
    {
      "cell_type": "markdown",
      "metadata": {
        "id": "gddebLNJiV-e"
      },
      "source": [
        "# LAB 3: Prognosis and survival functions\n",
        "\n",
        "In this lab, we will analyze observations from different patients who suffered advanced cancer and we will create different survival functions employing univariate (Kaplan-Meier estimate) and multivariate (CPH and Extra Survival Trees) analysis.\n",
        "\n",
        "Remember to copy this notebook into your personal folder and suffix your JHID:\n",
        "\n",
        "\n",
        "*   eg: Lab3_Prognosis_jmei10\n",
        "\n",
        "Please always emember to use the MLMA coding rubric.\n"
      ]
    },
    {
      "cell_type": "code",
      "metadata": {
        "id": "Ik4vfXLg6V3B",
        "colab": {
          "base_uri": "https://localhost:8080/"
        },
        "outputId": "97f3b61d-1541-45ae-fc4c-2f910d637701"
      },
      "source": [
        "# Libraries to be used in this lab. Feel free to add more libraries if you need them\n",
        "import urllib.request\n",
        "import numpy as np\n",
        "import pandas as pd\n",
        "import matplotlib.pyplot as plt\n",
        "!pip install lifelines\n",
        "from lifelines import CoxPHFitter\n",
        "from sklearn.model_selection import train_test_split\n",
        "from sklearn.preprocessing import StandardScaler"
      ],
      "execution_count": 3,
      "outputs": [
        {
          "output_type": "stream",
          "name": "stdout",
          "text": [
            "Looking in indexes: https://pypi.org/simple, https://us-python.pkg.dev/colab-wheels/public/simple/\n",
            "Requirement already satisfied: lifelines in /usr/local/lib/python3.8/dist-packages (0.27.4)\n",
            "Requirement already satisfied: scipy>=1.2.0 in /usr/local/lib/python3.8/dist-packages (from lifelines) (1.7.3)\n",
            "Requirement already satisfied: matplotlib>=3.0 in /usr/local/lib/python3.8/dist-packages (from lifelines) (3.2.2)\n",
            "Requirement already satisfied: formulaic>=0.2.2 in /usr/local/lib/python3.8/dist-packages (from lifelines) (0.5.2)\n",
            "Requirement already satisfied: pandas>=1.0.0 in /usr/local/lib/python3.8/dist-packages (from lifelines) (1.3.5)\n",
            "Requirement already satisfied: autograd-gamma>=0.3 in /usr/local/lib/python3.8/dist-packages (from lifelines) (0.5.0)\n",
            "Requirement already satisfied: autograd>=1.5 in /usr/local/lib/python3.8/dist-packages (from lifelines) (1.5)\n",
            "Requirement already satisfied: numpy>=1.14.0 in /usr/local/lib/python3.8/dist-packages (from lifelines) (1.21.6)\n",
            "Requirement already satisfied: future>=0.15.2 in /usr/local/lib/python3.8/dist-packages (from autograd>=1.5->lifelines) (0.16.0)\n",
            "Requirement already satisfied: astor>=0.8 in /usr/local/lib/python3.8/dist-packages (from formulaic>=0.2.2->lifelines) (0.8.1)\n",
            "Requirement already satisfied: typing-extensions>=4.2.0 in /usr/local/lib/python3.8/dist-packages (from formulaic>=0.2.2->lifelines) (4.5.0)\n",
            "Requirement already satisfied: graphlib-backport>=1.0.0 in /usr/local/lib/python3.8/dist-packages (from formulaic>=0.2.2->lifelines) (1.0.3)\n",
            "Requirement already satisfied: wrapt>=1.0 in /usr/local/lib/python3.8/dist-packages (from formulaic>=0.2.2->lifelines) (1.14.1)\n",
            "Requirement already satisfied: interface-meta>=1.2.0 in /usr/local/lib/python3.8/dist-packages (from formulaic>=0.2.2->lifelines) (1.3.0)\n",
            "Requirement already satisfied: cycler>=0.10 in /usr/local/lib/python3.8/dist-packages (from matplotlib>=3.0->lifelines) (0.11.0)\n",
            "Requirement already satisfied: kiwisolver>=1.0.1 in /usr/local/lib/python3.8/dist-packages (from matplotlib>=3.0->lifelines) (1.4.4)\n",
            "Requirement already satisfied: python-dateutil>=2.1 in /usr/local/lib/python3.8/dist-packages (from matplotlib>=3.0->lifelines) (2.8.2)\n",
            "Requirement already satisfied: pyparsing!=2.0.4,!=2.1.2,!=2.1.6,>=2.0.1 in /usr/local/lib/python3.8/dist-packages (from matplotlib>=3.0->lifelines) (3.0.9)\n",
            "Requirement already satisfied: pytz>=2017.3 in /usr/local/lib/python3.8/dist-packages (from pandas>=1.0.0->lifelines) (2022.7.1)\n",
            "Requirement already satisfied: six>=1.5 in /usr/local/lib/python3.8/dist-packages (from python-dateutil>=2.1->matplotlib>=3.0->lifelines) (1.15.0)\n"
          ]
        }
      ]
    },
    {
      "cell_type": "code",
      "source": [
        "#!pip uninstall scikit-learn\n",
        "!pip install xlrd\n",
        "!pip install scikit-survival\n",
        "from sksurv.ensemble import ExtraSurvivalTrees\n",
        "from sksurv.preprocessing import OneHotEncoder\n",
        "import xlrd\n",
        "import zipfile\n",
        "# If error '...ContextualVersionConflict...' occurs, uninstall your 'scikit-learn' and restart the runtime."
      ],
      "metadata": {
        "id": "7KC1EpYyJYZh",
        "colab": {
          "base_uri": "https://localhost:8080/"
        },
        "outputId": "58b561b7-0efc-46fc-ef69-ee2b809aa569"
      },
      "execution_count": 2,
      "outputs": [
        {
          "output_type": "stream",
          "name": "stdout",
          "text": [
            "Looking in indexes: https://pypi.org/simple, https://us-python.pkg.dev/colab-wheels/public/simple/\n",
            "Requirement already satisfied: xlrd in /usr/local/lib/python3.8/dist-packages (1.2.0)\n",
            "Looking in indexes: https://pypi.org/simple, https://us-python.pkg.dev/colab-wheels/public/simple/\n",
            "Requirement already satisfied: scikit-survival in /usr/local/lib/python3.8/dist-packages (0.19.0.post1)\n",
            "Requirement already satisfied: osqp!=0.6.0,!=0.6.1 in /usr/local/lib/python3.8/dist-packages (from scikit-survival) (0.6.2.post0)\n",
            "Requirement already satisfied: numexpr in /usr/local/lib/python3.8/dist-packages (from scikit-survival) (2.8.4)\n",
            "Requirement already satisfied: scipy>=1.3.2 in /usr/local/lib/python3.8/dist-packages (from scikit-survival) (1.7.3)\n",
            "Collecting scikit-learn<1.2,>=1.1.2\n",
            "  Using cached scikit_learn-1.1.3-cp38-cp38-manylinux_2_17_x86_64.manylinux2014_x86_64.whl (31.2 MB)\n",
            "Requirement already satisfied: numpy in /usr/local/lib/python3.8/dist-packages (from scikit-survival) (1.21.6)\n",
            "Requirement already satisfied: ecos in /usr/local/lib/python3.8/dist-packages (from scikit-survival) (2.0.12)\n",
            "Requirement already satisfied: pandas>=1.0.5 in /usr/local/lib/python3.8/dist-packages (from scikit-survival) (1.3.5)\n",
            "Requirement already satisfied: joblib in /usr/local/lib/python3.8/dist-packages (from scikit-survival) (1.2.0)\n",
            "Requirement already satisfied: qdldl in /usr/local/lib/python3.8/dist-packages (from osqp!=0.6.0,!=0.6.1->scikit-survival) (0.1.5.post3)\n",
            "Requirement already satisfied: python-dateutil>=2.7.3 in /usr/local/lib/python3.8/dist-packages (from pandas>=1.0.5->scikit-survival) (2.8.2)\n",
            "Requirement already satisfied: pytz>=2017.3 in /usr/local/lib/python3.8/dist-packages (from pandas>=1.0.5->scikit-survival) (2022.7.1)\n",
            "Requirement already satisfied: threadpoolctl>=2.0.0 in /usr/local/lib/python3.8/dist-packages (from scikit-learn<1.2,>=1.1.2->scikit-survival) (3.1.0)\n",
            "Requirement already satisfied: six>=1.5 in /usr/local/lib/python3.8/dist-packages (from python-dateutil>=2.7.3->pandas>=1.0.5->scikit-survival) (1.15.0)\n",
            "Installing collected packages: scikit-learn\n",
            "Successfully installed scikit-learn-1.1.3\n"
          ]
        }
      ]
    },
    {
      "cell_type": "markdown",
      "metadata": {
        "id": "jQCeiNDSe6Dy"
      },
      "source": [
        "**DATA**\n",
        "\n",
        "The data that we are going to use in this lab is described in the paper [\"Performance of clinician prediction of survival in oncology outpatients with advanced cancer\"](https://journals.plos.org/plosone/article?id=10.1371/journal.pone.0267467). According to the authors: \n",
        "\n",
        "*A total of 200 advanced cancer patients were enrolled and the median overall survival was 7.6 months... This study was part of a prospective cohort study aimed at developing a prognostic model in medical oncology outpatients... The prognostic model predicts 3-month survival to facilitate palliative care referral at least 3 months before death. We enrolled advanced cancer patients treated at a comprehensive cancer center of a university hospital from March 2016 to January 2019. Patients were eligible if they had a diagnosis of advanced cancer, when their oncologists estimated their survival to be less than a year and were 18 years or older. We defined advanced cancer as a metastatic or recurrent disease or progressive locally advanced disease not amenable to curative treatment. Patients were excluded if they had hematologic malignancies, were expected to survive less than a month, and were not able to communicate. Written informed consent was obtained from each patient before enrollment. The protocol was approved by the Institutional Review Board (IRB) of Seoul National University Bundang Hospital (IRB number: B-1601/332-302).*\n",
        "\n",
        "You can find this data in this link:[LINK](https://plos.figshare.com/articles/dataset/S1_Data_-/19631638?backTo=/collections/Performance_of_clinician_prediction_of_survival_in_oncology_outpatients_with_advanced_cancer/5957779)\n",
        "\n",
        "For univariate analysis, we will assume that the authors of the dataset had an appropriate criteria for t=0."
      ]
    },
    {
      "cell_type": "code",
      "metadata": {
        "id": "Uidy9E8L-KON"
      },
      "source": [
        "#Load  the data\n",
        "#Please load the processed data from the drive link below, as the original file has some encoding issues\n",
        "sData='https://docs.google.com/spreadsheets/d/1ObVvB7ofWPe-7xZWpAq5MGDaTrV651F9T21ZsoAB-VM/export?format=csv'\n",
        "urllib.request.urlretrieve(sData,'./advance_cancer.csv')\n",
        "df=pd.read_csv('./advance_cancer.csv')"
      ],
      "execution_count": 4,
      "outputs": []
    },
    {
      "cell_type": "code",
      "metadata": {
        "id": "YF9-JECf_j14",
        "colab": {
          "base_uri": "https://localhost:8080/",
          "height": 334
        },
        "outputId": "1e9edb4d-6456-40be-bba0-8a8cf2b66912"
      },
      "source": [
        "# Visualize the data (showing a part of the csv form) and obtain statistics (number of observations and variables)\n",
        "print('Number of observations: ', len(df))\n",
        "print('Number of variables (not all are predictors): ', len(df.columns)-2)\n",
        "df.tail()"
      ],
      "execution_count": 5,
      "outputs": [
        {
          "output_type": "stream",
          "name": "stdout",
          "text": [
            "Number of observations:  200\n",
            "Number of variables (not all are predictors):  106\n"
          ]
        },
        {
          "output_type": "execute_result",
          "data": {
            "text/plain": [
              "     Study_No  Sex  Age  SurvivalTime  SurvivalTimeW  ST_12  ST_24  ST_36  \\\n",
              "195       197    1   71           113      16.142857      0      1      1   \n",
              "196       198    1   78           321      45.857143      0      0      0   \n",
              "197       199    1   61           323      46.142857      0      0      0   \n",
              "198       200    1   57           469      67.000000      0      0      0   \n",
              "199       201    1   77           267      38.142857      0      0      0   \n",
              "\n",
              "     ST_48  ST_52  ...     QLQC_SF    QLQC_FA    QLQC_NV    QLQC_PA  \\\n",
              "195      1      1  ...  100.000000  22.222222   0.000000  33.333333   \n",
              "196      1      1  ...   50.000000  22.222222   0.000000  33.333333   \n",
              "197      1      1  ...   83.333333  22.222222   0.000000   0.000000   \n",
              "198      0      0  ...   50.000000  11.111111  16.666667  33.333333   \n",
              "199      1      1  ...   33.333333  33.333333   0.000000   0.000000   \n",
              "\n",
              "       QLQC_DY    QLQC_SL    QLQC_AP    QLQC_CO  QLQC_DI    QLQC_FI  \n",
              "195  66.666667   0.000000  33.333333   0.000000      0.0   0.000000  \n",
              "196   0.000000   0.000000   0.000000  33.333333      0.0  66.666667  \n",
              "197   0.000000   0.000000   0.000000   0.000000      0.0   0.000000  \n",
              "198  66.666667  33.333333  33.333333  33.333333      0.0  66.666667  \n",
              "199   0.000000  33.333333   0.000000  66.666667      0.0  33.333333  \n",
              "\n",
              "[5 rows x 108 columns]"
            ],
            "text/html": [
              "\n",
              "  <div id=\"df-c66d708a-ee19-4f99-999d-722bbbf5a485\">\n",
              "    <div class=\"colab-df-container\">\n",
              "      <div>\n",
              "<style scoped>\n",
              "    .dataframe tbody tr th:only-of-type {\n",
              "        vertical-align: middle;\n",
              "    }\n",
              "\n",
              "    .dataframe tbody tr th {\n",
              "        vertical-align: top;\n",
              "    }\n",
              "\n",
              "    .dataframe thead th {\n",
              "        text-align: right;\n",
              "    }\n",
              "</style>\n",
              "<table border=\"1\" class=\"dataframe\">\n",
              "  <thead>\n",
              "    <tr style=\"text-align: right;\">\n",
              "      <th></th>\n",
              "      <th>Study_No</th>\n",
              "      <th>Sex</th>\n",
              "      <th>Age</th>\n",
              "      <th>SurvivalTime</th>\n",
              "      <th>SurvivalTimeW</th>\n",
              "      <th>ST_12</th>\n",
              "      <th>ST_24</th>\n",
              "      <th>ST_36</th>\n",
              "      <th>ST_48</th>\n",
              "      <th>ST_52</th>\n",
              "      <th>...</th>\n",
              "      <th>QLQC_SF</th>\n",
              "      <th>QLQC_FA</th>\n",
              "      <th>QLQC_NV</th>\n",
              "      <th>QLQC_PA</th>\n",
              "      <th>QLQC_DY</th>\n",
              "      <th>QLQC_SL</th>\n",
              "      <th>QLQC_AP</th>\n",
              "      <th>QLQC_CO</th>\n",
              "      <th>QLQC_DI</th>\n",
              "      <th>QLQC_FI</th>\n",
              "    </tr>\n",
              "  </thead>\n",
              "  <tbody>\n",
              "    <tr>\n",
              "      <th>195</th>\n",
              "      <td>197</td>\n",
              "      <td>1</td>\n",
              "      <td>71</td>\n",
              "      <td>113</td>\n",
              "      <td>16.142857</td>\n",
              "      <td>0</td>\n",
              "      <td>1</td>\n",
              "      <td>1</td>\n",
              "      <td>1</td>\n",
              "      <td>1</td>\n",
              "      <td>...</td>\n",
              "      <td>100.000000</td>\n",
              "      <td>22.222222</td>\n",
              "      <td>0.000000</td>\n",
              "      <td>33.333333</td>\n",
              "      <td>66.666667</td>\n",
              "      <td>0.000000</td>\n",
              "      <td>33.333333</td>\n",
              "      <td>0.000000</td>\n",
              "      <td>0.0</td>\n",
              "      <td>0.000000</td>\n",
              "    </tr>\n",
              "    <tr>\n",
              "      <th>196</th>\n",
              "      <td>198</td>\n",
              "      <td>1</td>\n",
              "      <td>78</td>\n",
              "      <td>321</td>\n",
              "      <td>45.857143</td>\n",
              "      <td>0</td>\n",
              "      <td>0</td>\n",
              "      <td>0</td>\n",
              "      <td>1</td>\n",
              "      <td>1</td>\n",
              "      <td>...</td>\n",
              "      <td>50.000000</td>\n",
              "      <td>22.222222</td>\n",
              "      <td>0.000000</td>\n",
              "      <td>33.333333</td>\n",
              "      <td>0.000000</td>\n",
              "      <td>0.000000</td>\n",
              "      <td>0.000000</td>\n",
              "      <td>33.333333</td>\n",
              "      <td>0.0</td>\n",
              "      <td>66.666667</td>\n",
              "    </tr>\n",
              "    <tr>\n",
              "      <th>197</th>\n",
              "      <td>199</td>\n",
              "      <td>1</td>\n",
              "      <td>61</td>\n",
              "      <td>323</td>\n",
              "      <td>46.142857</td>\n",
              "      <td>0</td>\n",
              "      <td>0</td>\n",
              "      <td>0</td>\n",
              "      <td>1</td>\n",
              "      <td>1</td>\n",
              "      <td>...</td>\n",
              "      <td>83.333333</td>\n",
              "      <td>22.222222</td>\n",
              "      <td>0.000000</td>\n",
              "      <td>0.000000</td>\n",
              "      <td>0.000000</td>\n",
              "      <td>0.000000</td>\n",
              "      <td>0.000000</td>\n",
              "      <td>0.000000</td>\n",
              "      <td>0.0</td>\n",
              "      <td>0.000000</td>\n",
              "    </tr>\n",
              "    <tr>\n",
              "      <th>198</th>\n",
              "      <td>200</td>\n",
              "      <td>1</td>\n",
              "      <td>57</td>\n",
              "      <td>469</td>\n",
              "      <td>67.000000</td>\n",
              "      <td>0</td>\n",
              "      <td>0</td>\n",
              "      <td>0</td>\n",
              "      <td>0</td>\n",
              "      <td>0</td>\n",
              "      <td>...</td>\n",
              "      <td>50.000000</td>\n",
              "      <td>11.111111</td>\n",
              "      <td>16.666667</td>\n",
              "      <td>33.333333</td>\n",
              "      <td>66.666667</td>\n",
              "      <td>33.333333</td>\n",
              "      <td>33.333333</td>\n",
              "      <td>33.333333</td>\n",
              "      <td>0.0</td>\n",
              "      <td>66.666667</td>\n",
              "    </tr>\n",
              "    <tr>\n",
              "      <th>199</th>\n",
              "      <td>201</td>\n",
              "      <td>1</td>\n",
              "      <td>77</td>\n",
              "      <td>267</td>\n",
              "      <td>38.142857</td>\n",
              "      <td>0</td>\n",
              "      <td>0</td>\n",
              "      <td>0</td>\n",
              "      <td>1</td>\n",
              "      <td>1</td>\n",
              "      <td>...</td>\n",
              "      <td>33.333333</td>\n",
              "      <td>33.333333</td>\n",
              "      <td>0.000000</td>\n",
              "      <td>0.000000</td>\n",
              "      <td>0.000000</td>\n",
              "      <td>33.333333</td>\n",
              "      <td>0.000000</td>\n",
              "      <td>66.666667</td>\n",
              "      <td>0.0</td>\n",
              "      <td>33.333333</td>\n",
              "    </tr>\n",
              "  </tbody>\n",
              "</table>\n",
              "<p>5 rows × 108 columns</p>\n",
              "</div>\n",
              "      <button class=\"colab-df-convert\" onclick=\"convertToInteractive('df-c66d708a-ee19-4f99-999d-722bbbf5a485')\"\n",
              "              title=\"Convert this dataframe to an interactive table.\"\n",
              "              style=\"display:none;\">\n",
              "        \n",
              "  <svg xmlns=\"http://www.w3.org/2000/svg\" height=\"24px\"viewBox=\"0 0 24 24\"\n",
              "       width=\"24px\">\n",
              "    <path d=\"M0 0h24v24H0V0z\" fill=\"none\"/>\n",
              "    <path d=\"M18.56 5.44l.94 2.06.94-2.06 2.06-.94-2.06-.94-.94-2.06-.94 2.06-2.06.94zm-11 1L8.5 8.5l.94-2.06 2.06-.94-2.06-.94L8.5 2.5l-.94 2.06-2.06.94zm10 10l.94 2.06.94-2.06 2.06-.94-2.06-.94-.94-2.06-.94 2.06-2.06.94z\"/><path d=\"M17.41 7.96l-1.37-1.37c-.4-.4-.92-.59-1.43-.59-.52 0-1.04.2-1.43.59L10.3 9.45l-7.72 7.72c-.78.78-.78 2.05 0 2.83L4 21.41c.39.39.9.59 1.41.59.51 0 1.02-.2 1.41-.59l7.78-7.78 2.81-2.81c.8-.78.8-2.07 0-2.86zM5.41 20L4 18.59l7.72-7.72 1.47 1.35L5.41 20z\"/>\n",
              "  </svg>\n",
              "      </button>\n",
              "      \n",
              "  <style>\n",
              "    .colab-df-container {\n",
              "      display:flex;\n",
              "      flex-wrap:wrap;\n",
              "      gap: 12px;\n",
              "    }\n",
              "\n",
              "    .colab-df-convert {\n",
              "      background-color: #E8F0FE;\n",
              "      border: none;\n",
              "      border-radius: 50%;\n",
              "      cursor: pointer;\n",
              "      display: none;\n",
              "      fill: #1967D2;\n",
              "      height: 32px;\n",
              "      padding: 0 0 0 0;\n",
              "      width: 32px;\n",
              "    }\n",
              "\n",
              "    .colab-df-convert:hover {\n",
              "      background-color: #E2EBFA;\n",
              "      box-shadow: 0px 1px 2px rgba(60, 64, 67, 0.3), 0px 1px 3px 1px rgba(60, 64, 67, 0.15);\n",
              "      fill: #174EA6;\n",
              "    }\n",
              "\n",
              "    [theme=dark] .colab-df-convert {\n",
              "      background-color: #3B4455;\n",
              "      fill: #D2E3FC;\n",
              "    }\n",
              "\n",
              "    [theme=dark] .colab-df-convert:hover {\n",
              "      background-color: #434B5C;\n",
              "      box-shadow: 0px 1px 3px 1px rgba(0, 0, 0, 0.15);\n",
              "      filter: drop-shadow(0px 1px 2px rgba(0, 0, 0, 0.3));\n",
              "      fill: #FFFFFF;\n",
              "    }\n",
              "  </style>\n",
              "\n",
              "      <script>\n",
              "        const buttonEl =\n",
              "          document.querySelector('#df-c66d708a-ee19-4f99-999d-722bbbf5a485 button.colab-df-convert');\n",
              "        buttonEl.style.display =\n",
              "          google.colab.kernel.accessAllowed ? 'block' : 'none';\n",
              "\n",
              "        async function convertToInteractive(key) {\n",
              "          const element = document.querySelector('#df-c66d708a-ee19-4f99-999d-722bbbf5a485');\n",
              "          const dataTable =\n",
              "            await google.colab.kernel.invokeFunction('convertToInteractive',\n",
              "                                                     [key], {});\n",
              "          if (!dataTable) return;\n",
              "\n",
              "          const docLinkHtml = 'Like what you see? Visit the ' +\n",
              "            '<a target=\"_blank\" href=https://colab.research.google.com/notebooks/data_table.ipynb>data table notebook</a>'\n",
              "            + ' to learn more about interactive tables.';\n",
              "          element.innerHTML = '';\n",
              "          dataTable['output_type'] = 'display_data';\n",
              "          await google.colab.output.renderOutput(dataTable, element);\n",
              "          const docLink = document.createElement('div');\n",
              "          docLink.innerHTML = docLinkHtml;\n",
              "          element.appendChild(docLink);\n",
              "        }\n",
              "      </script>\n",
              "    </div>\n",
              "  </div>\n",
              "  "
            ]
          },
          "metadata": {},
          "execution_count": 5
        }
      ]
    },
    {
      "cell_type": "markdown",
      "source": [
        "# 0. Check your data"
      ],
      "metadata": {
        "id": "JgHkwzyFZ5L3"
      }
    },
    {
      "cell_type": "markdown",
      "source": [
        "Task 1: Please check the gender and age distribution of the dataset (3 POINTS)"
      ],
      "metadata": {
        "id": "52-VEwWpaHsH"
      }
    },
    {
      "cell_type": "code",
      "source": [
        "# Please plot a histogram of the AGE distribution:\n",
        "\n",
        "# YOUR CODES GO HERE\n",
        "df.hist(column=\"Age\")\n",
        "\n",
        "# and answer a question briefly：how many male patients (Sex: 1) are in this dataset? \n",
        "\n",
        "# YOUR CODES GO HERE\n",
        "sum(df[\"Sex\"]==1)  \n",
        "# There are 128 male patients that appear in the dataset"
      ],
      "metadata": {
        "id": "8nazceVVagOi",
        "colab": {
          "base_uri": "https://localhost:8080/",
          "height": 298
        },
        "outputId": "5000a8bb-56d1-42cf-c9b6-e31577358c5b"
      },
      "execution_count": 7,
      "outputs": [
        {
          "output_type": "execute_result",
          "data": {
            "text/plain": [
              "128"
            ]
          },
          "metadata": {},
          "execution_count": 7
        },
        {
          "output_type": "display_data",
          "data": {
            "text/plain": [
              "<Figure size 432x288 with 1 Axes>"
            ],
            "image/png": "[encoded data removed]"
          },
          "metadata": {
            "needs_background": "light"
          }
        }
      ]
    },
    {
      "cell_type": "markdown",
      "metadata": {
        "id": "uGpFjst0HcKJ"
      },
      "source": [
        "**TASK 2:** Do you think the dataset we are using is age and gender balanced? Why or why not? Please comment your opinions below. (2 POINT)"
      ]
    },
    {
      "cell_type": "markdown",
      "source": [
        "No, I do not think that our dataset is balanced. We saw for those patients whose data is recorded in this dataset, the majority of them are male and aged. "
      ],
      "metadata": {
        "id": "7mRtC62ew8nC"
      }
    },
    {
      "cell_type": "markdown",
      "metadata": {
        "id": "wbVoSInouDRw"
      },
      "source": [
        "# 1. Prognostic Model"
      ]
    },
    {
      "cell_type": "markdown",
      "metadata": {
        "id": "SFxmbEQSW4cz"
      },
      "source": [
        "Different from survival models, prognostic models try to answer questions referred to  fixed period or related to a certain event. \n",
        "\n",
        "The EORTC Core Quality of Life questionnaire (EORTC QLQ-C30) is designed to measure cancer patients' physical, psychological and social functions [LINK](https://www.eortc.org/app/uploads/sites/2/2018/02/SCmanual.pdf). And according to the [paper](https://www.ncbi.nlm.nih.gov/pmc/articles/PMC7160394/#:~:text=The%20QLQ%E2%80%90C30%20summary%20score,score%20indicating%20a%20better%20HRQoL.), QLQ‐C30 summary score was the strongest predictor of all‐cause mortality.\n",
        "\n",
        "Before working on the survival models, let's first try to check if we could construct a prognostic model."
      ]
    },
    {
      "cell_type": "code",
      "source": [
        "# Maintain the columns of interest only.\n",
        "df_prognostic = pd.DataFrame();\n",
        "df_prognostic['Termination_Situation'] = df['Termination_Situation'];\n",
        "df_prognostic['SurvivalTime'] = df['SurvivalTime'];\n",
        "df_prognostic['Censored'] = df['Censored'];\n",
        "df_prognostic['Age'] = df['Age'];\n",
        "# assign values for some selected predictors\n",
        "df_prognostic['QLQC_sum' ] = df['QLQC_QL2' ] \n",
        "QLQC_scores  = ['PF2','RF2','EF','CF','SF','FA','NV','PA','DY','SL','AP','DI']\n",
        "for i in QLQC_scores:  \n",
        "  df_prognostic['QLQC_sum'] += df['QLQC_' + i ]\n",
        "df_prognostic['QLQC_sum'] = df_prognostic['QLQC_sum']/13\n",
        "df_prognostic_no_3=df_prognostic[~df_prognostic['Termination_Situation'].isin([3])]\n",
        "df_prognostic   = df_prognostic_no_3"
      ],
      "metadata": {
        "id": "Vb0fQ4cPdcqY"
      },
      "execution_count": 8,
      "outputs": []
    },
    {
      "cell_type": "markdown",
      "metadata": {
        "id": "GmRCs3yTY89g"
      },
      "source": [
        "**TASK 3:** To build the prognostic model, we should always delete the censored data ('Censored' = 1). Please expain why. (4 POINT)\n"
      ]
    },
    {
      "cell_type": "markdown",
      "source": [
        "Censored data means some parts of the observation are unobserved. i.e. some of entries in our dataset are missing. Therefore, we usually want to delete the censored data since we can't train a model with partially observed data."
      ],
      "metadata": {
        "id": "Zii9gsONm0QG"
      }
    },
    {
      "cell_type": "markdown",
      "metadata": {
        "id": "ktv0J_Priu_Q"
      },
      "source": [
        "**TASK 4:** Junhua is planing to train a logistic regression model for df_prognostic['QLQC_sum']&df_prognostic['Age'] vs df_prognostic['Termination_Situation'] just like in the [example figure](https://static.javatpoint.com/tutorial/machine-learning/images/logistic-regression-in-machine-learning14.png). Can he do it successfully for this set of data, after deleting all the censored samples? (1 POINT)\n"
      ]
    },
    {
      "cell_type": "code",
      "source": [
        "from sklearn.linear_model import LogisticRegression# \n",
        "# data preparation\n",
        "Xtrain = np.array( [df_prognostic['QLQC_sum'],df_prognostic['Age']]);\n",
        "Ytrain = np.array( [df_prognostic['Termination_Situation']]).squeeze(); \n",
        "# standardlization\n",
        "std = StandardScaler()  \n",
        "Xtrain = std.fit_transform(Xtrain)\n",
        "Xtrain = Xtrain.transpose()\n",
        "\n",
        "# YOUR CODES GO HERE, no need to run the logistic regression. HINTS: try to remove the censored data.\n",
        "pd.DataFrame(Ytrain)[(df_prognostic[\"Censored\"]==1).reset_index(drop=True)]"
      ],
      "metadata": {
        "id": "R2msv_QwjERJ",
        "colab": {
          "base_uri": "https://localhost:8080/",
          "height": 1000
        },
        "outputId": "64f84ea7-ee90-49dd-8186-ab3a93e7cd89"
      },
      "execution_count": 36,
      "outputs": [
        {
          "output_type": "execute_result",
          "data": {
            "text/plain": [
              "     0\n",
              "35   1\n",
              "47   1\n",
              "53   1\n",
              "60   1\n",
              "64   1\n",
              "67   1\n",
              "68   1\n",
              "72   1\n",
              "74   1\n",
              "77   1\n",
              "83   1\n",
              "88   1\n",
              "98   1\n",
              "101  1\n",
              "105  1\n",
              "107  1\n",
              "115  1\n",
              "127  1\n",
              "133  1\n",
              "137  1\n",
              "142  1\n",
              "145  1\n",
              "148  1\n",
              "149  1\n",
              "151  1\n",
              "153  1\n",
              "160  1\n",
              "162  1\n",
              "164  1\n",
              "174  1\n",
              "181  1\n",
              "182  1\n",
              "184  1\n",
              "185  1\n",
              "186  1\n",
              "187  1\n",
              "190  1\n",
              "195  1\n",
              "196  1"
            ],
            "text/html": [
              "\n",
              "  <div id=\"df-c5c13555-fa3c-4088-b51a-2a08f041fb36\">\n",
              "    <div class=\"colab-df-container\">\n",
              "      <div>\n",
              "<style scoped>\n",
              "    .dataframe tbody tr th:only-of-type {\n",
              "        vertical-align: middle;\n",
              "    }\n",
              "\n",
              "    .dataframe tbody tr th {\n",
              "        vertical-align: top;\n",
              "    }\n",
              "\n",
              "    .dataframe thead th {\n",
              "        text-align: right;\n",
              "    }\n",
              "</style>\n",
              "<table border=\"1\" class=\"dataframe\">\n",
              "  <thead>\n",
              "    <tr style=\"text-align: right;\">\n",
              "      <th></th>\n",
              "      <th>0</th>\n",
              "    </tr>\n",
              "  </thead>\n",
              "  <tbody>\n",
              "    <tr>\n",
              "      <th>35</th>\n",
              "      <td>1</td>\n",
              "    </tr>\n",
              "    <tr>\n",
              "      <th>47</th>\n",
              "      <td>1</td>\n",
              "    </tr>\n",
              "    <tr>\n",
              "      <th>53</th>\n",
              "      <td>1</td>\n",
              "    </tr>\n",
              "    <tr>\n",
              "      <th>60</th>\n",
              "      <td>1</td>\n",
              "    </tr>\n",
              "    <tr>\n",
              "      <th>64</th>\n",
              "      <td>1</td>\n",
              "    </tr>\n",
              "    <tr>\n",
              "      <th>67</th>\n",
              "      <td>1</td>\n",
              "    </tr>\n",
              "    <tr>\n",
              "      <th>68</th>\n",
              "      <td>1</td>\n",
              "    </tr>\n",
              "    <tr>\n",
              "      <th>72</th>\n",
              "      <td>1</td>\n",
              "    </tr>\n",
              "    <tr>\n",
              "      <th>74</th>\n",
              "      <td>1</td>\n",
              "    </tr>\n",
              "    <tr>\n",
              "      <th>77</th>\n",
              "      <td>1</td>\n",
              "    </tr>\n",
              "    <tr>\n",
              "      <th>83</th>\n",
              "      <td>1</td>\n",
              "    </tr>\n",
              "    <tr>\n",
              "      <th>88</th>\n",
              "      <td>1</td>\n",
              "    </tr>\n",
              "    <tr>\n",
              "      <th>98</th>\n",
              "      <td>1</td>\n",
              "    </tr>\n",
              "    <tr>\n",
              "      <th>101</th>\n",
              "      <td>1</td>\n",
              "    </tr>\n",
              "    <tr>\n",
              "      <th>105</th>\n",
              "      <td>1</td>\n",
              "    </tr>\n",
              "    <tr>\n",
              "      <th>107</th>\n",
              "      <td>1</td>\n",
              "    </tr>\n",
              "    <tr>\n",
              "      <th>115</th>\n",
              "      <td>1</td>\n",
              "    </tr>\n",
              "    <tr>\n",
              "      <th>127</th>\n",
              "      <td>1</td>\n",
              "    </tr>\n",
              "    <tr>\n",
              "      <th>133</th>\n",
              "      <td>1</td>\n",
              "    </tr>\n",
              "    <tr>\n",
              "      <th>137</th>\n",
              "      <td>1</td>\n",
              "    </tr>\n",
              "    <tr>\n",
              "      <th>142</th>\n",
              "      <td>1</td>\n",
              "    </tr>\n",
              "    <tr>\n",
              "      <th>145</th>\n",
              "      <td>1</td>\n",
              "    </tr>\n",
              "    <tr>\n",
              "      <th>148</th>\n",
              "      <td>1</td>\n",
              "    </tr>\n",
              "    <tr>\n",
              "      <th>149</th>\n",
              "      <td>1</td>\n",
              "    </tr>\n",
              "    <tr>\n",
              "      <th>151</th>\n",
              "      <td>1</td>\n",
              "    </tr>\n",
              "    <tr>\n",
              "      <th>153</th>\n",
              "      <td>1</td>\n",
              "    </tr>\n",
              "    <tr>\n",
              "      <th>160</th>\n",
              "      <td>1</td>\n",
              "    </tr>\n",
              "    <tr>\n",
              "      <th>162</th>\n",
              "      <td>1</td>\n",
              "    </tr>\n",
              "    <tr>\n",
              "      <th>164</th>\n",
              "      <td>1</td>\n",
              "    </tr>\n",
              "    <tr>\n",
              "      <th>174</th>\n",
              "      <td>1</td>\n",
              "    </tr>\n",
              "    <tr>\n",
              "      <th>181</th>\n",
              "      <td>1</td>\n",
              "    </tr>\n",
              "    <tr>\n",
              "      <th>182</th>\n",
              "      <td>1</td>\n",
              "    </tr>\n",
              "    <tr>\n",
              "      <th>184</th>\n",
              "      <td>1</td>\n",
              "    </tr>\n",
              "    <tr>\n",
              "      <th>185</th>\n",
              "      <td>1</td>\n",
              "    </tr>\n",
              "    <tr>\n",
              "      <th>186</th>\n",
              "      <td>1</td>\n",
              "    </tr>\n",
              "    <tr>\n",
              "      <th>187</th>\n",
              "      <td>1</td>\n",
              "    </tr>\n",
              "    <tr>\n",
              "      <th>190</th>\n",
              "      <td>1</td>\n",
              "    </tr>\n",
              "    <tr>\n",
              "      <th>195</th>\n",
              "      <td>1</td>\n",
              "    </tr>\n",
              "    <tr>\n",
              "      <th>196</th>\n",
              "      <td>1</td>\n",
              "    </tr>\n",
              "  </tbody>\n",
              "</table>\n",
              "</div>\n",
              "      <button class=\"colab-df-convert\" onclick=\"convertToInteractive('df-c5c13555-fa3c-4088-b51a-2a08f041fb36')\"\n",
              "              title=\"Convert this dataframe to an interactive table.\"\n",
              "              style=\"display:none;\">\n",
              "        \n",
              "  <svg xmlns=\"http://www.w3.org/2000/svg\" height=\"24px\"viewBox=\"0 0 24 24\"\n",
              "       width=\"24px\">\n",
              "    <path d=\"M0 0h24v24H0V0z\" fill=\"none\"/>\n",
              "    <path d=\"M18.56 5.44l.94 2.06.94-2.06 2.06-.94-2.06-.94-.94-2.06-.94 2.06-2.06.94zm-11 1L8.5 8.5l.94-2.06 2.06-.94-2.06-.94L8.5 2.5l-.94 2.06-2.06.94zm10 10l.94 2.06.94-2.06 2.06-.94-2.06-.94-.94-2.06-.94 2.06-2.06.94z\"/><path d=\"M17.41 7.96l-1.37-1.37c-.4-.4-.92-.59-1.43-.59-.52 0-1.04.2-1.43.59L10.3 9.45l-7.72 7.72c-.78.78-.78 2.05 0 2.83L4 21.41c.39.39.9.59 1.41.59.51 0 1.02-.2 1.41-.59l7.78-7.78 2.81-2.81c.8-.78.8-2.07 0-2.86zM5.41 20L4 18.59l7.72-7.72 1.47 1.35L5.41 20z\"/>\n",
              "  </svg>\n",
              "      </button>\n",
              "      \n",
              "  <style>\n",
              "    .colab-df-container {\n",
              "      display:flex;\n",
              "      flex-wrap:wrap;\n",
              "      gap: 12px;\n",
              "    }\n",
              "\n",
              "    .colab-df-convert {\n",
              "      background-color: #E8F0FE;\n",
              "      border: none;\n",
              "      border-radius: 50%;\n",
              "      cursor: pointer;\n",
              "      display: none;\n",
              "      fill: #1967D2;\n",
              "      height: 32px;\n",
              "      padding: 0 0 0 0;\n",
              "      width: 32px;\n",
              "    }\n",
              "\n",
              "    .colab-df-convert:hover {\n",
              "      background-color: #E2EBFA;\n",
              "      box-shadow: 0px 1px 2px rgba(60, 64, 67, 0.3), 0px 1px 3px 1px rgba(60, 64, 67, 0.15);\n",
              "      fill: #174EA6;\n",
              "    }\n",
              "\n",
              "    [theme=dark] .colab-df-convert {\n",
              "      background-color: #3B4455;\n",
              "      fill: #D2E3FC;\n",
              "    }\n",
              "\n",
              "    [theme=dark] .colab-df-convert:hover {\n",
              "      background-color: #434B5C;\n",
              "      box-shadow: 0px 1px 3px 1px rgba(0, 0, 0, 0.15);\n",
              "      filter: drop-shadow(0px 1px 2px rgba(0, 0, 0, 0.3));\n",
              "      fill: #FFFFFF;\n",
              "    }\n",
              "  </style>\n",
              "\n",
              "      <script>\n",
              "        const buttonEl =\n",
              "          document.querySelector('#df-c5c13555-fa3c-4088-b51a-2a08f041fb36 button.colab-df-convert');\n",
              "        buttonEl.style.display =\n",
              "          google.colab.kernel.accessAllowed ? 'block' : 'none';\n",
              "\n",
              "        async function convertToInteractive(key) {\n",
              "          const element = document.querySelector('#df-c5c13555-fa3c-4088-b51a-2a08f041fb36');\n",
              "          const dataTable =\n",
              "            await google.colab.kernel.invokeFunction('convertToInteractive',\n",
              "                                                     [key], {});\n",
              "          if (!dataTable) return;\n",
              "\n",
              "          const docLinkHtml = 'Like what you see? Visit the ' +\n",
              "            '<a target=\"_blank\" href=https://colab.research.google.com/notebooks/data_table.ipynb>data table notebook</a>'\n",
              "            + ' to learn more about interactive tables.';\n",
              "          element.innerHTML = '';\n",
              "          dataTable['output_type'] = 'display_data';\n",
              "          await google.colab.output.renderOutput(dataTable, element);\n",
              "          const docLink = document.createElement('div');\n",
              "          docLink.innerHTML = docLinkHtml;\n",
              "          element.appendChild(docLink);\n",
              "        }\n",
              "      </script>\n",
              "    </div>\n",
              "  </div>\n",
              "  "
            ]
          },
          "metadata": {},
          "execution_count": 36
        }
      ]
    },
    {
      "cell_type": "markdown",
      "source": [
        "No, he will not be able to train a logistic regression model if he delete all the censored data. As you can see from the dataframe printed above, one we delete all censored data, the dataset only contains 1 class, which is \"1\" only. The model trained upon the given data will not have predictive power over the class other than \"1\""
      ],
      "metadata": {
        "id": "q9lhnMtWv8is"
      }
    },
    {
      "cell_type": "markdown",
      "metadata": {
        "id": "pUWIJXxzWu9Z"
      },
      "source": [
        "# 2. Univariate analysis: Univariate survival functions and cumulative hazard"
      ]
    },
    {
      "cell_type": "markdown",
      "metadata": {
        "id": "CBH9zPd_nKXX"
      },
      "source": [
        "\n",
        "![image.png](data:image/png;base64,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)\n",
        "\n",
        "\n",
        "**TASK 5:** Calculate and plot the survival function employing the Kaplan-Meier estimate  (10 POINTS)"
      ]
    },
    {
      "cell_type": "code",
      "metadata": {
        "id": "YAUNRO7ls86o"
      },
      "source": [
        "# Calculate and plot the survival function employing the Kaplan-Meier estimate\n",
        "def calculate_survival_KM(df, TimeColumn, EventColumn, EVENT_HAPPEN_INDICATOR, EVENT_NOT_HAPPEN_INDICATOR):\n",
        "  \"\"\"\n",
        "Generates a dataframe containing the survival function (time vs probability of survival)\n",
        "employing the Kaplan-Meier estimate.\n",
        "Inputs: \n",
        "      df: input dataframe\n",
        "      TimeColumn: name of the colum containing the event time\n",
        "      EventColumn: name of the column indicating if the event happened HAPPEN_INDICATOR or not NOT_HAPPEN_INDICATOR\n",
        "      EVENT_HAPPEN_INDICATOR: the indicator status when event happens, like 2 for death\n",
        "      EVENT_NOT_HAPPEN_INDICATOR: the indicator status when event does not happen, like 1 for alive\n",
        "Outputs:\n",
        "      dfSurv: dataframe containing the time and probability of survival\n",
        "  \"\"\"\n",
        "  # YOUR CODES GO HERE\n",
        "\n",
        "  selected_df=df[[TimeColumn,EventColumn]]\n",
        "\n",
        "  survival_time=[]\n",
        "  survival_probability=[]\n",
        "\n",
        "  for i in list(df[TimeColumn]):\n",
        "    cumulative_product=1\n",
        "    for j in range(i):\n",
        "      # Compute how many people died at time J and compute the comulative product \n",
        "      if sum(df[TimeColumn]==j)!=0:\n",
        "        patients_at_j=selected_df[df[TimeColumn]==j]\n",
        "        number_died_at_j=sum(patients_at_j[EventColumn]==EVENT_HAPPEN_INDICATOR)\n",
        "        # Check number of patients who survive at time j \n",
        "        number_survive_after_j=sum(df[TimeColumn]>j)\n",
        "        number_survive_at_j=sum(patients_at_j[EventColumn]==EVENT_NOT_HAPPEN_INDICATOR)\n",
        "        denominator=number_survive_after_j+number_survive_at_j\n",
        "        # Computer the term product \n",
        "        product=1-(number_died_at_j/denominator)\n",
        "        cumulative_product=cumulative_product*product\n",
        "    survival_probability.append(cumulative_product)\n",
        "    survival_time.append(i)\n",
        "\n",
        "  out_dataframe=pd.DataFrame([survival_time,survival_probability]).transpose()\n",
        "\n",
        "  return out_dataframe\n",
        "  \n",
        "\n",
        "def plot_survival(df, TimeColumn, EventColumn, Name, EVENT_HAPPEN_INDICATOR, EVENT_NOT_HAPPEN_INDICATOR):\n",
        "  \"\"\"\n",
        "  This function plots the survival function of the whole df. This function calls\n",
        "  calculate_survival_KM.\n",
        "  Inputs: \n",
        "      df: input dataframe\n",
        "      TimeColumn: name of the colum containing the event time\n",
        "      EventColumn: name of the column indicating if the event happened HAPPEN_INDICATOR or not NOT_HAPPEN_INDICATOR\n",
        "      Name: legend to be displayed, associated to the survival function\n",
        "      EVENT_HAPPEN_INDICATOR: the indicator status when event happens, like 2 for death\n",
        "      EVENT_NOT_HAPPEN_INDICATOR: the indicator status when event does not happen, like 1 for alive\n",
        "\n",
        "  \"\"\"\n",
        "  # YOUR CODES GO HERE\n",
        "  \n",
        "  out=calculate_survival_KM(df, TimeColumn, EventColumn, EVENT_HAPPEN_INDICATOR, EVENT_NOT_HAPPEN_INDICATOR)\n",
        "\n",
        "  out=out.sort_values(0)\n",
        "\n",
        "\n",
        "  plt.plot(out[0],out[1])\n",
        "  plt.legend([Name])\n",
        "  plt.show()\n"
      ],
      "execution_count": 93,
      "outputs": []
    },
    {
      "cell_type": "code",
      "metadata": {
        "id": "9sQet5nyXIjt",
        "colab": {
          "base_uri": "https://localhost:8080/",
          "height": 265
        },
        "outputId": "248b92d1-8eaa-46e7-e48c-a3f94144a075"
      },
      "source": [
        "## HINTs: Please USE SurvivalTime rather than SurvivalTimeW\n",
        "# Plot the survival function obtained with the whole dataframe\n",
        "TimeColumn='SurvivalTime'\n",
        "EventColumn='Termination_Situation'\n",
        "plot_survival(df, TimeColumn, EventColumn, 'All', 2, 1)"
      ],
      "execution_count": 94,
      "outputs": [
        {
          "output_type": "display_data",
          "data": {
            "text/plain": [
              "<Figure size 432x288 with 1 Axes>"
            ],
            "image/png": "[encoded data removed]"
          },
          "metadata": {
            "needs_background": "light"
          }
        }
      ]
    },
    {
      "cell_type": "markdown",
      "metadata": {
        "id": "dvSpNkVZoYZ2"
      },
      "source": [
        "**TASK 6:** Code a function that displays the survival function of two categories of a certain predictor (eg. male, female) in the same plot (10 POINTS)."
      ]
    },
    {
      "cell_type": "code",
      "metadata": {
        "id": "4AGJvziCn7CY"
      },
      "source": [
        "# function to print two categories \n",
        "def plot_survival_twocat(df, predictor, cat1, cat0,cat1_name, cat0_name ):\n",
        "  \"\"\"\n",
        "  Displays the survival function of two categories of a certain predictor \n",
        "  (eg. smoker and non-smoker or male, female) in the same plot. This function\n",
        "  only considers binary categories: 0 and 1.\n",
        "  Inputs:\n",
        "        df: input dataframe\n",
        "        predictor: column containing the predictor variable that we want to study\n",
        "        cat1: Label of the category associated to One category (eg. '1')\n",
        "        cat0: Label of the category associated to The other category (eg. '2')\n",
        "        cat1_name: real name for cat1's label (eg. 'Male')\n",
        "        cat0_name: real name for cat1's label (eg. 'Female')\n",
        "  \"\"\"\n",
        "  # YOUR CODES GO HERE\n",
        "\n",
        "  df1=df[df[predictor]==cat1]\n",
        "  df2=df[df[predictor]==cat0]\n",
        "\n",
        "  out1=calculate_survival_KM(df1, 'SurvivalTime','Termination_Situation', 2, 1)\n",
        "  out1=out1.sort_values(0)\n",
        "  plt.plot(out1[0],out1[1])\n",
        "\n",
        "\n",
        "  out2=calculate_survival_KM(df2, 'SurvivalTime','Termination_Situation', 2, 1)\n",
        "  out2=out2.sort_values(0)\n",
        "  plt.plot(out2[0],out2[1])\n",
        "  plt.legend([cat1_name,cat0_name])\n",
        "\n",
        "\n",
        "  plt.show()"
      ],
      "execution_count": 100,
      "outputs": []
    },
    {
      "cell_type": "code",
      "metadata": {
        "id": "AERRfip4jp3N",
        "colab": {
          "base_uri": "https://localhost:8080/",
          "height": 265
        },
        "outputId": "22540c25-64b7-4df3-9269-f98f72af3072"
      },
      "source": [
        "# Plot survival for male vs female\n",
        "predictor='Sex'\n",
        "cat1=1; cat0=2\n",
        "cat1_name = 'Male'; cat0_name = 'Female';\n",
        "plot_survival_twocat(df, predictor, cat1, cat0,cat1_name,cat0_name ) "
      ],
      "execution_count": 101,
      "outputs": [
        {
          "output_type": "display_data",
          "data": {
            "text/plain": [
              "<Figure size 432x288 with 1 Axes>"
            ],
            "image/png": "[encoded data removed]"
          },
          "metadata": {
            "needs_background": "light"
          }
        }
      ]
    },
    {
      "cell_type": "code",
      "metadata": {
        "id": "A-RCK-M5lLf4",
        "colab": {
          "base_uri": "https://localhost:8080/",
          "height": 265
        },
        "outputId": "d8d704e5-a6b7-4373-fd6b-7b50677e9af3"
      },
      "source": [
        "# Plot survival for Diagnosis_Lung_A\n",
        "predictor='Diagnosis_Lung_A'\n",
        "cat1=0 ; cat0=1;\n",
        "cat1_name = 'With Lung Abnormality'; cat0_name = 'Without Lung Abnormality';\n",
        "plot_survival_twocat(df, predictor, cat1, cat0,cat1_name,cat0_name ) "
      ],
      "execution_count": 102,
      "outputs": [
        {
          "output_type": "display_data",
          "data": {
            "text/plain": [
              "<Figure size 432x288 with 1 Axes>"
            ],
            "image/png": "[encoded data removed]"
          },
          "metadata": {
            "needs_background": "light"
          }
        }
      ]
    },
    {
      "cell_type": "markdown",
      "source": [
        "Which factor above poses a stronger influence on the survival？ "
      ],
      "metadata": {
        "id": "GFWGluCRDjzZ"
      }
    },
    {
      "cell_type": "markdown",
      "source": [
        "From the two graphs above, we can see that the factor \"lung abnormality\" has greater influence on patient's chance of survival since two lines are not closely fit together in plot2 . "
      ],
      "metadata": {
        "id": "cpoF_0CLDuBs"
      }
    },
    {
      "cell_type": "markdown",
      "metadata": {
        "id": "WWMfc_qprvaE"
      },
      "source": [
        "**TASK 7:** Plot the cumulative Hazard using the Nelson-Aalen estimator (10 Points)"
      ]
    },
    {
      "cell_type": "code",
      "metadata": {
        "id": "KPpg-7Ph7vsM"
      },
      "source": [
        "# Plot the cumulative Hazard using the Nelson-Aalen estimator\n",
        "def cumulative_hazard_NA(df, TimeColumn, EventColumn, EVENT_HAPPEN_INDICATOR, EVENT_NOT_HAPPEN_INDICATOR):\n",
        "  \"\"\"\n",
        "  Generates a dataframe containing the cumulative hazard  (H(t) employing the \n",
        "  Nelson-Aalen estimator.\n",
        "  Inputs: \n",
        "        df: input dataframe\n",
        "        TimeColumn: name of the colum containing the event time\n",
        "        EventColumn: name of the column indicating if the event happened or not\n",
        "        EVENT_HAPPEN_INDICATOR: the indicator status when event happens, like 2 for death\n",
        "        EVENT_NOT_HAPPEN_INDICATOR: the indicator status when event does not happen, like 1 for being alive\n",
        "  Outputs:\n",
        "        dfH: dataframe containing the time and Cumulative Hazard (H(t))\n",
        "  \"\"\"\n",
        "\n",
        "  # YOUR CODES GO HERE\n",
        "  \n",
        "  selected_df=df[[TimeColumn,EventColumn]]\n",
        "\n",
        "  survival_time=[]\n",
        "  survival_probability=[]\n",
        "\n",
        "  for i in list(df[TimeColumn]):\n",
        "    cumulative_sum=0\n",
        "    for j in range(i):\n",
        "      # Compute how many people died at time J and compute the comulative product \n",
        "      if sum(df[TimeColumn]==j)!=0:\n",
        "        patients_at_j=selected_df[df[TimeColumn]==j]\n",
        "        number_died_at_j=sum(patients_at_j[EventColumn]==EVENT_HAPPEN_INDICATOR)\n",
        "        # Check number of patients who survive at time j \n",
        "        number_survive_after_j=sum(df[TimeColumn]>j)\n",
        "        number_survive_at_j=sum(patients_at_j[EventColumn]==EVENT_NOT_HAPPEN_INDICATOR)\n",
        "        denominator=number_survive_after_j+number_survive_at_j\n",
        "        # Compute the sum \n",
        "        h_t=(number_died_at_j/denominator)\n",
        "        cumulative_sum=cumulative_sum+h_t\n",
        "    survival_probability.append(cumulative_sum)\n",
        "    survival_time.append(i)\n",
        "\n",
        "  out_dataframe=pd.DataFrame([survival_time,survival_probability]).transpose()\n",
        "\n",
        "  return out_dataframe\n",
        "\n",
        "def plot_cumH(df, TimeColumn, EventColumn, Name,EVENT_HAPPEN_INDICATOR, EVENT_NOT_HAPPEN_INDICATOR):\n",
        "  \"\"\"\n",
        "  This function plots the cumulative hazard of the whole df. This function calls\n",
        "  calculate_hazard_NA.\n",
        "  Inputs: \n",
        "      df: input dataframe\n",
        "      TimeColumn: name of the colum containing the event time\n",
        "      EventColumn: name of the column indicating if the event happened \n",
        "      Name: legend to be displayed, associated to the CH\n",
        "      EVENT_HAPPEN_INDICATOR: the indicator status when event happens, like 2 for death\n",
        "      EVENT_NOT_HAPPEN_INDICATOR: the indicator status when event does not happen, like 1 for being alive\n",
        "  \"\"\"\n",
        "\n",
        "  # YOUR CODES GO HERE\n",
        "\n",
        "  out=cumulative_hazard_NA(df, TimeColumn, EventColumn, EVENT_HAPPEN_INDICATOR, EVENT_NOT_HAPPEN_INDICATOR)\n",
        "\n",
        "  out=out.sort_values(0)\n",
        "\n",
        "\n",
        "  plt.plot(out[0],out[1])\n",
        "  plt.legend([Name])\n",
        "  plt.show()\n"
      ],
      "execution_count": 103,
      "outputs": []
    },
    {
      "cell_type": "code",
      "metadata": {
        "id": "YHJHKhSdrA16",
        "colab": {
          "base_uri": "https://localhost:8080/",
          "height": 265
        },
        "outputId": "d2a8e5b2-b099-43c0-935d-fc658ad9c05e"
      },
      "source": [
        "# Plot the cumulative hazard of df\n",
        "TimeColumn='SurvivalTime'\n",
        "EventColumn='Termination_Situation'\n",
        "plot_cumH(df, TimeColumn, EventColumn, 'All', 2, 1)"
      ],
      "execution_count": 104,
      "outputs": [
        {
          "output_type": "display_data",
          "data": {
            "text/plain": [
              "<Figure size 432x288 with 1 Axes>"
            ],
            "image/png": "[encoded data removed]"
          },
          "metadata": {
            "needs_background": "light"
          }
        }
      ]
    },
    {
      "cell_type": "markdown",
      "metadata": {
        "id": "0yA0q5GJtJNN"
      },
      "source": [
        "# 2. Multivariate analysis\n",
        "**Cox Proportional Hazards**\n",
        "\n",
        "Now, we are going to employ multivariate analysis using CPH to determine the survival funtions and the hazard ratio of different patients. \n",
        "We will employ [lifelines](https://lifelines.readthedocs.io/en/latest/index.html), a python survival analysis library."
      ]
    },
    {
      "cell_type": "code",
      "source": [
        "# Before doing CPH analysis, let us first pick up the predictors from all the variables, as most of them are actually analysis results.\n",
        "df_cph = pd.DataFrame();\n",
        "df_cph['Termination_Situation'] = df['Termination_Situation'];\n",
        "df_cph['SurvivalTime'] = df['SurvivalTime'];\n",
        "# assign values for some selected predictors\n",
        "predictors = ['Sex','Age','Oncologist_gr','Diagnosis_Lung_A','Diagnosis_Stomatch_A','TE_RadiationTherapy','TE_immunoTherapy','TE_HormoneTherapy','Diagnosis_ColonRectal_A',\t'Diagnosis_OvaryCervial_A',\t'Diagnosis_LiverBiliarytract_A',\t'Diagnosis_Pancreas_A',\t'Diagnosis_Esophagus_A',\t'Diagnosis_Headandneck_A',\t'Diagnosis_Softtissue_A',\t'Diagnosis_KidneyBlandder_A']\n",
        "for predictor in predictors:  \n",
        "  df_cph[predictor] = df[predictor]"
      ],
      "metadata": {
        "id": "gtMaoosTy8HL"
      },
      "execution_count": 105,
      "outputs": []
    },
    {
      "cell_type": "code",
      "source": [
        "!pip install lifelines\n",
        "from lifelines import CoxPHFitter "
      ],
      "metadata": {
        "id": "E3rKSh_QfksQ",
        "colab": {
          "base_uri": "https://localhost:8080/"
        },
        "outputId": "f46cf30f-e8b9-4bb8-8346-a5a962aac34c"
      },
      "execution_count": 106,
      "outputs": [
        {
          "output_type": "stream",
          "name": "stdout",
          "text": [
            "Looking in indexes: https://pypi.org/simple, https://us-python.pkg.dev/colab-wheels/public/simple/\n",
            "Requirement already satisfied: lifelines in /usr/local/lib/python3.8/dist-packages (0.27.4)\n",
            "Requirement already satisfied: matplotlib>=3.0 in /usr/local/lib/python3.8/dist-packages (from lifelines) (3.2.2)\n",
            "Requirement already satisfied: autograd-gamma>=0.3 in /usr/local/lib/python3.8/dist-packages (from lifelines) (0.5.0)\n",
            "Requirement already satisfied: scipy>=1.2.0 in /usr/local/lib/python3.8/dist-packages (from lifelines) (1.7.3)\n",
            "Requirement already satisfied: formulaic>=0.2.2 in /usr/local/lib/python3.8/dist-packages (from lifelines) (0.5.2)\n",
            "Requirement already satisfied: numpy>=1.14.0 in /usr/local/lib/python3.8/dist-packages (from lifelines) (1.21.6)\n",
            "Requirement already satisfied: autograd>=1.5 in /usr/local/lib/python3.8/dist-packages (from lifelines) (1.5)\n",
            "Requirement already satisfied: pandas>=1.0.0 in /usr/local/lib/python3.8/dist-packages (from lifelines) (1.3.5)\n",
            "Requirement already satisfied: future>=0.15.2 in /usr/local/lib/python3.8/dist-packages (from autograd>=1.5->lifelines) (0.16.0)\n",
            "Requirement already satisfied: interface-meta>=1.2.0 in /usr/local/lib/python3.8/dist-packages (from formulaic>=0.2.2->lifelines) (1.3.0)\n",
            "Requirement already satisfied: wrapt>=1.0 in /usr/local/lib/python3.8/dist-packages (from formulaic>=0.2.2->lifelines) (1.14.1)\n",
            "Requirement already satisfied: graphlib-backport>=1.0.0 in /usr/local/lib/python3.8/dist-packages (from formulaic>=0.2.2->lifelines) (1.0.3)\n",
            "Requirement already satisfied: astor>=0.8 in /usr/local/lib/python3.8/dist-packages (from formulaic>=0.2.2->lifelines) (0.8.1)\n",
            "Requirement already satisfied: typing-extensions>=4.2.0 in /usr/local/lib/python3.8/dist-packages (from formulaic>=0.2.2->lifelines) (4.5.0)\n",
            "Requirement already satisfied: cycler>=0.10 in /usr/local/lib/python3.8/dist-packages (from matplotlib>=3.0->lifelines) (0.11.0)\n",
            "Requirement already satisfied: python-dateutil>=2.1 in /usr/local/lib/python3.8/dist-packages (from matplotlib>=3.0->lifelines) (2.8.2)\n",
            "Requirement already satisfied: pyparsing!=2.0.4,!=2.1.2,!=2.1.6,>=2.0.1 in /usr/local/lib/python3.8/dist-packages (from matplotlib>=3.0->lifelines) (3.0.9)\n",
            "Requirement already satisfied: kiwisolver>=1.0.1 in /usr/local/lib/python3.8/dist-packages (from matplotlib>=3.0->lifelines) (1.4.4)\n",
            "Requirement already satisfied: pytz>=2017.3 in /usr/local/lib/python3.8/dist-packages (from pandas>=1.0.0->lifelines) (2022.7.1)\n",
            "Requirement already satisfied: six>=1.5 in /usr/local/lib/python3.8/dist-packages (from python-dateutil>=2.1->matplotlib>=3.0->lifelines) (1.15.0)\n"
          ]
        }
      ]
    },
    {
      "cell_type": "markdown",
      "metadata": {
        "id": "7X3sm6NhvBI8"
      },
      "source": [
        "**TASK 8:** divide the dataframe into training and testing subsets and normalize the data. (5 POINTS)."
      ]
    },
    {
      "cell_type": "code",
      "metadata": {
        "id": "4bVy_tUG4iXa"
      },
      "source": [
        "#Divide the data into training -dfTrain- (80%), and testing -dfTest- (20%):\n",
        "\n",
        "# YOUR CODES GO HERE\n",
        "\n",
        "X_train, X_test = train_test_split(df_cph, test_size=0.2)\n",
        "\n",
        "\n",
        "for i in X_train.columns:\n",
        "  if i!=\"Termination_Situation\":\n",
        "    X_train[i]=(X_train[i]-X_train[i].mean())/X_train[i].std()\n",
        "    X_test[i]=(X_test[i]-X_test[i].mean())/X_test[i].std()\n",
        "\n",
        "X_train=X_train.fillna(0.001)\n",
        "X_test=X_test.fillna(0.001)"
      ],
      "execution_count": 356,
      "outputs": []
    },
    {
      "cell_type": "markdown",
      "metadata": {
        "id": "eHKPnK7IvSyq"
      },
      "source": [
        "**TASK 9:** Calculate and print the Cox proportional hazards coefficients of the training subset (dfTrain). As the data was normalized, the coefficients will provide information about the effect size of the predictor variables (5 POINTS)."
      ]
    },
    {
      "cell_type": "code",
      "metadata": {
        "id": "vVBiQaqHvR_p",
        "colab": {
          "base_uri": "https://localhost:8080/",
          "height": 945
        },
        "outputId": "a00b5815-868a-454f-b255-6f0b912b7a37"
      },
      "source": [
        "# Calculate and print the Cox proportional hazards coefficients\n",
        "\n",
        "# YOUR CODES GO HERE\n",
        "\n",
        "cph = CoxPHFitter()\n",
        "cph.fit(X_train,duration_col=\"SurvivalTime\",event_col=\"Termination_Situation\")\n",
        "cph.print_summary()"
      ],
      "execution_count": 244,
      "outputs": [
        {
          "output_type": "display_data",
          "data": {
            "text/plain": [
              "<lifelines.CoxPHFitter: fitted with 160 total observations, 0 right-censored observations>\n",
              "             duration col = 'SurvivalTime'\n",
              "                event col = 'Termination_Situation'\n",
              "      baseline estimation = breslow\n",
              "   number of observations = 160\n",
              "number of events observed = 160\n",
              "   partial log-likelihood = -638.14\n",
              "         time fit was run = 2023-02-19 03:12:37 UTC\n",
              "\n",
              "---\n",
              "                                coef  exp(coef)   se(coef)   coef lower 95%   coef upper 95%  exp(coef) lower 95%  exp(coef) upper 95%\n",
              "covariate                                                                                                                             \n",
              "Sex                            -0.11       0.89       0.10            -0.31             0.08                 0.73                 1.09\n",
              "Age                             0.00       1.00       0.09            -0.18             0.18                 0.84                 1.20\n",
              "Oncologist_gr                  -0.09       0.92       0.12            -0.32             0.14                 0.73                 1.15\n",
              "Diagnosis_Lung_A                0.07       1.08       0.11            -0.14             0.29                 0.87                 1.33\n",
              "Diagnosis_Stomatch_A            0.28       1.32       0.11             0.07             0.49                 1.07                 1.63\n",
              "TE_RadiationTherapy             0.15       1.16       0.09            -0.02             0.32                 0.98                 1.38\n",
              "TE_immunoTherapy               -0.12       0.89       0.08            -0.28             0.04                 0.75                 1.04\n",
              "TE_HormoneTherapy              -0.03       0.97       0.09            -0.22             0.15                 0.80                 1.17\n",
              "Diagnosis_ColonRectal_A         0.05       1.05       0.09            -0.12             0.23                 0.88                 1.26\n",
              "Diagnosis_OvaryCervial_A        0.10       1.11       0.09            -0.07             0.27                 0.93                 1.31\n",
              "Diagnosis_LiverBiliarytract_A   0.17       1.19       0.09             0.00             0.34                 1.00                 1.41\n",
              "Diagnosis_Pancreas_A           -0.20       0.82       0.12            -0.43             0.03                 0.65                 1.03\n",
              "Diagnosis_Esophagus_A           0.02       1.02       0.08            -0.15             0.18                 0.86                 1.20\n",
              "Diagnosis_Headandneck_A         0.01       1.01       0.09            -0.17             0.19                 0.84                 1.21\n",
              "Diagnosis_Softtissue_A         -0.16       0.86       0.09            -0.34             0.03                 0.71                 1.03\n",
              "Diagnosis_KidneyBlandder_A     -0.13       0.88       0.11            -0.34             0.08                 0.71                 1.08\n",
              "\n",
              "                                cmp to     z    p   -log2(p)\n",
              "covariate                                                   \n",
              "Sex                               0.00 -1.13 0.26       1.96\n",
              "Age                               0.00  0.00 1.00       0.00\n",
              "Oncologist_gr                     0.00 -0.75 0.46       1.13\n",
              "Diagnosis_Lung_A                  0.00  0.68 0.49       1.02\n",
              "Diagnosis_Stomatch_A              0.00  2.59 0.01       6.71\n",
              "TE_RadiationTherapy               0.00  1.71 0.09       3.52\n",
              "TE_immunoTherapy                  0.00 -1.48 0.14       2.84\n",
              "TE_HormoneTherapy                 0.00 -0.34 0.74       0.44\n",
              "Diagnosis_ColonRectal_A           0.00  0.59 0.55       0.85\n",
              "Diagnosis_OvaryCervial_A          0.00  1.16 0.25       2.02\n",
              "Diagnosis_LiverBiliarytract_A     0.00  2.00 0.05       4.47\n",
              "Diagnosis_Pancreas_A              0.00 -1.67 0.09       3.41\n",
              "Diagnosis_Esophagus_A             0.00  0.19 0.85       0.24\n",
              "Diagnosis_Headandneck_A           0.00  0.09 0.93       0.11\n",
              "Diagnosis_Softtissue_A            0.00 -1.66 0.10       3.36\n",
              "Diagnosis_KidneyBlandder_A        0.00 -1.22 0.22       2.17\n",
              "---\n",
              "Concordance = 0.63\n",
              "Partial AIC = 1308.28\n",
              "log-likelihood ratio test = 34.69 on 16 df\n",
              "-log2(p) of ll-ratio test = 7.83"
            ],
            "text/html": [
              "<div>\n",
              "<style scoped>\n",
              "    .dataframe tbody tr th:only-of-type {\n",
              "        vertical-align: middle;\n",
              "    }\n",
              "\n",
              "    .dataframe tbody tr th {\n",
              "        vertical-align: top;\n",
              "    }\n",
              "\n",
              "    .dataframe thead th {\n",
              "        text-align: right;\n",
              "    }\n",
              "</style>\n",
              "<table border=\"1\" class=\"dataframe\">\n",
              "  <tbody>\n",
              "    <tr>\n",
              "      <th>model</th>\n",
              "      <td>lifelines.CoxPHFitter</td>\n",
              "    </tr>\n",
              "    <tr>\n",
              "      <th>duration col</th>\n",
              "      <td>'SurvivalTime'</td>\n",
              "    </tr>\n",
              "    <tr>\n",
              "      <th>event col</th>\n",
              "      <td>'Termination_Situation'</td>\n",
              "    </tr>\n",
              "    <tr>\n",
              "      <th>baseline estimation</th>\n",
              "      <td>breslow</td>\n",
              "    </tr>\n",
              "    <tr>\n",
              "      <th>number of observations</th>\n",
              "      <td>160</td>\n",
              "    </tr>\n",
              "    <tr>\n",
              "      <th>number of events observed</th>\n",
              "      <td>160</td>\n",
              "    </tr>\n",
              "    <tr>\n",
              "      <th>partial log-likelihood</th>\n",
              "      <td>-638.14</td>\n",
              "    </tr>\n",
              "    <tr>\n",
              "      <th>time fit was run</th>\n",
              "      <td>2023-02-19 03:12:37 UTC</td>\n",
              "    </tr>\n",
              "  </tbody>\n",
              "</table>\n",
              "</div><table border=\"1\" class=\"dataframe\">\n",
              "  <thead>\n",
              "    <tr style=\"text-align: right;\">\n",
              "      <th style=\"min-width: 12px;\"></th>\n",
              "      <th style=\"min-width: 12px;\">coef</th>\n",
              "      <th style=\"min-width: 12px;\">exp(coef)</th>\n",
              "      <th style=\"min-width: 12px;\">se(coef)</th>\n",
              "      <th style=\"min-width: 12px;\">coef lower 95%</th>\n",
              "      <th style=\"min-width: 12px;\">coef upper 95%</th>\n",
              "      <th style=\"min-width: 12px;\">exp(coef) lower 95%</th>\n",
              "      <th style=\"min-width: 12px;\">exp(coef) upper 95%</th>\n",
              "      <th style=\"min-width: 12px;\">cmp to</th>\n",
              "      <th style=\"min-width: 12px;\">z</th>\n",
              "      <th style=\"min-width: 12px;\">p</th>\n",
              "      <th style=\"min-width: 12px;\">-log2(p)</th>\n",
              "    </tr>\n",
              "  </thead>\n",
              "  <tbody>\n",
              "    <tr>\n",
              "      <th>Sex</th>\n",
              "      <td>-0.11</td>\n",
              "      <td>0.89</td>\n",
              "      <td>0.10</td>\n",
              "      <td>-0.31</td>\n",
              "      <td>0.08</td>\n",
              "      <td>0.73</td>\n",
              "      <td>1.09</td>\n",
              "      <td>0.00</td>\n",
              "      <td>-1.13</td>\n",
              "      <td>0.26</td>\n",
              "      <td>1.96</td>\n",
              "    </tr>\n",
              "    <tr>\n",
              "      <th>Age</th>\n",
              "      <td>0.00</td>\n",
              "      <td>1.00</td>\n",
              "      <td>0.09</td>\n",
              "      <td>-0.18</td>\n",
              "      <td>0.18</td>\n",
              "      <td>0.84</td>\n",
              "      <td>1.20</td>\n",
              "      <td>0.00</td>\n",
              "      <td>0.00</td>\n",
              "      <td>1.00</td>\n",
              "      <td>0.00</td>\n",
              "    </tr>\n",
              "    <tr>\n",
              "      <th>Oncologist_gr</th>\n",
              "      <td>-0.09</td>\n",
              "      <td>0.92</td>\n",
              "      <td>0.12</td>\n",
              "      <td>-0.32</td>\n",
              "      <td>0.14</td>\n",
              "      <td>0.73</td>\n",
              "      <td>1.15</td>\n",
              "      <td>0.00</td>\n",
              "      <td>-0.75</td>\n",
              "      <td>0.46</td>\n",
              "      <td>1.13</td>\n",
              "    </tr>\n",
              "    <tr>\n",
              "      <th>Diagnosis_Lung_A</th>\n",
              "      <td>0.07</td>\n",
              "      <td>1.08</td>\n",
              "      <td>0.11</td>\n",
              "      <td>-0.14</td>\n",
              "      <td>0.29</td>\n",
              "      <td>0.87</td>\n",
              "      <td>1.33</td>\n",
              "      <td>0.00</td>\n",
              "      <td>0.68</td>\n",
              "      <td>0.49</td>\n",
              "      <td>1.02</td>\n",
              "    </tr>\n",
              "    <tr>\n",
              "      <th>Diagnosis_Stomatch_A</th>\n",
              "      <td>0.28</td>\n",
              "      <td>1.32</td>\n",
              "      <td>0.11</td>\n",
              "      <td>0.07</td>\n",
              "      <td>0.49</td>\n",
              "      <td>1.07</td>\n",
              "      <td>1.63</td>\n",
              "      <td>0.00</td>\n",
              "      <td>2.59</td>\n",
              "      <td>0.01</td>\n",
              "      <td>6.71</td>\n",
              "    </tr>\n",
              "    <tr>\n",
              "      <th>TE_RadiationTherapy</th>\n",
              "      <td>0.15</td>\n",
              "      <td>1.16</td>\n",
              "      <td>0.09</td>\n",
              "      <td>-0.02</td>\n",
              "      <td>0.32</td>\n",
              "      <td>0.98</td>\n",
              "      <td>1.38</td>\n",
              "      <td>0.00</td>\n",
              "      <td>1.71</td>\n",
              "      <td>0.09</td>\n",
              "      <td>3.52</td>\n",
              "    </tr>\n",
              "    <tr>\n",
              "      <th>TE_immunoTherapy</th>\n",
              "      <td>-0.12</td>\n",
              "      <td>0.89</td>\n",
              "      <td>0.08</td>\n",
              "      <td>-0.28</td>\n",
              "      <td>0.04</td>\n",
              "      <td>0.75</td>\n",
              "      <td>1.04</td>\n",
              "      <td>0.00</td>\n",
              "      <td>-1.48</td>\n",
              "      <td>0.14</td>\n",
              "      <td>2.84</td>\n",
              "    </tr>\n",
              "    <tr>\n",
              "      <th>TE_HormoneTherapy</th>\n",
              "      <td>-0.03</td>\n",
              "      <td>0.97</td>\n",
              "      <td>0.09</td>\n",
              "      <td>-0.22</td>\n",
              "      <td>0.15</td>\n",
              "      <td>0.80</td>\n",
              "      <td>1.17</td>\n",
              "      <td>0.00</td>\n",
              "      <td>-0.34</td>\n",
              "      <td>0.74</td>\n",
              "      <td>0.44</td>\n",
              "    </tr>\n",
              "    <tr>\n",
              "      <th>Diagnosis_ColonRectal_A</th>\n",
              "      <td>0.05</td>\n",
              "      <td>1.05</td>\n",
              "      <td>0.09</td>\n",
              "      <td>-0.12</td>\n",
              "      <td>0.23</td>\n",
              "      <td>0.88</td>\n",
              "      <td>1.26</td>\n",
              "      <td>0.00</td>\n",
              "      <td>0.59</td>\n",
              "      <td>0.55</td>\n",
              "      <td>0.85</td>\n",
              "    </tr>\n",
              "    <tr>\n",
              "      <th>Diagnosis_OvaryCervial_A</th>\n",
              "      <td>0.10</td>\n",
              "      <td>1.11</td>\n",
              "      <td>0.09</td>\n",
              "      <td>-0.07</td>\n",
              "      <td>0.27</td>\n",
              "      <td>0.93</td>\n",
              "      <td>1.31</td>\n",
              "      <td>0.00</td>\n",
              "      <td>1.16</td>\n",
              "      <td>0.25</td>\n",
              "      <td>2.02</td>\n",
              "    </tr>\n",
              "    <tr>\n",
              "      <th>Diagnosis_LiverBiliarytract_A</th>\n",
              "      <td>0.17</td>\n",
              "      <td>1.19</td>\n",
              "      <td>0.09</td>\n",
              "      <td>0.00</td>\n",
              "      <td>0.34</td>\n",
              "      <td>1.00</td>\n",
              "      <td>1.41</td>\n",
              "      <td>0.00</td>\n",
              "      <td>2.00</td>\n",
              "      <td>0.05</td>\n",
              "      <td>4.47</td>\n",
              "    </tr>\n",
              "    <tr>\n",
              "      <th>Diagnosis_Pancreas_A</th>\n",
              "      <td>-0.20</td>\n",
              "      <td>0.82</td>\n",
              "      <td>0.12</td>\n",
              "      <td>-0.43</td>\n",
              "      <td>0.03</td>\n",
              "      <td>0.65</td>\n",
              "      <td>1.03</td>\n",
              "      <td>0.00</td>\n",
              "      <td>-1.67</td>\n",
              "      <td>0.09</td>\n",
              "      <td>3.41</td>\n",
              "    </tr>\n",
              "    <tr>\n",
              "      <th>Diagnosis_Esophagus_A</th>\n",
              "      <td>0.02</td>\n",
              "      <td>1.02</td>\n",
              "      <td>0.08</td>\n",
              "      <td>-0.15</td>\n",
              "      <td>0.18</td>\n",
              "      <td>0.86</td>\n",
              "      <td>1.20</td>\n",
              "      <td>0.00</td>\n",
              "      <td>0.19</td>\n",
              "      <td>0.85</td>\n",
              "      <td>0.24</td>\n",
              "    </tr>\n",
              "    <tr>\n",
              "      <th>Diagnosis_Headandneck_A</th>\n",
              "      <td>0.01</td>\n",
              "      <td>1.01</td>\n",
              "      <td>0.09</td>\n",
              "      <td>-0.17</td>\n",
              "      <td>0.19</td>\n",
              "      <td>0.84</td>\n",
              "      <td>1.21</td>\n",
              "      <td>0.00</td>\n",
              "      <td>0.09</td>\n",
              "      <td>0.93</td>\n",
              "      <td>0.11</td>\n",
              "    </tr>\n",
              "    <tr>\n",
              "      <th>Diagnosis_Softtissue_A</th>\n",
              "      <td>-0.16</td>\n",
              "      <td>0.86</td>\n",
              "      <td>0.09</td>\n",
              "      <td>-0.34</td>\n",
              "      <td>0.03</td>\n",
              "      <td>0.71</td>\n",
              "      <td>1.03</td>\n",
              "      <td>0.00</td>\n",
              "      <td>-1.66</td>\n",
              "      <td>0.10</td>\n",
              "      <td>3.36</td>\n",
              "    </tr>\n",
              "    <tr>\n",
              "      <th>Diagnosis_KidneyBlandder_A</th>\n",
              "      <td>-0.13</td>\n",
              "      <td>0.88</td>\n",
              "      <td>0.11</td>\n",
              "      <td>-0.34</td>\n",
              "      <td>0.08</td>\n",
              "      <td>0.71</td>\n",
              "      <td>1.08</td>\n",
              "      <td>0.00</td>\n",
              "      <td>-1.22</td>\n",
              "      <td>0.22</td>\n",
              "      <td>2.17</td>\n",
              "    </tr>\n",
              "  </tbody>\n",
              "</table><br><div>\n",
              "<style scoped>\n",
              "    .dataframe tbody tr th:only-of-type {\n",
              "        vertical-align: middle;\n",
              "    }\n",
              "\n",
              "    .dataframe tbody tr th {\n",
              "        vertical-align: top;\n",
              "    }\n",
              "\n",
              "    .dataframe thead th {\n",
              "        text-align: right;\n",
              "    }\n",
              "</style>\n",
              "<table border=\"1\" class=\"dataframe\">\n",
              "  <tbody>\n",
              "    <tr>\n",
              "      <th>Concordance</th>\n",
              "      <td>0.63</td>\n",
              "    </tr>\n",
              "    <tr>\n",
              "      <th>Partial AIC</th>\n",
              "      <td>1308.28</td>\n",
              "    </tr>\n",
              "    <tr>\n",
              "      <th>log-likelihood ratio test</th>\n",
              "      <td>34.69 on 16 df</td>\n",
              "    </tr>\n",
              "    <tr>\n",
              "      <th>-log2(p) of ll-ratio test</th>\n",
              "      <td>7.83</td>\n",
              "    </tr>\n",
              "  </tbody>\n",
              "</table>\n",
              "</div>"
            ],
            "text/latex": "\\begin{tabular}{lrrrrrrrrrrr}\n{} & {coef} & {exp(coef)} & {se(coef)} & {coef lower 95%} & {coef upper 95%} & {exp(coef) lower 95%} & {exp(coef) upper 95%} & {cmp to} & {z} & {p} & {-log2(p)} \\\\\n{covariate} & {} & {} & {} & {} & {} & {} & {} & {} & {} & {} & {} \\\\\nSex & -0.11 & 0.89 & 0.10 & -0.31 & 0.08 & 0.73 & 1.09 & 0.00 & -1.13 & 0.26 & 1.96 \\\\\nAge & 0.00 & 1.00 & 0.09 & -0.18 & 0.18 & 0.84 & 1.20 & 0.00 & 0.00 & 1.00 & 0.00 \\\\\nOncologist_gr & -0.09 & 0.92 & 0.12 & -0.32 & 0.14 & 0.73 & 1.15 & 0.00 & -0.75 & 0.46 & 1.13 \\\\\nDiagnosis_Lung_A & 0.07 & 1.08 & 0.11 & -0.14 & 0.29 & 0.87 & 1.33 & 0.00 & 0.68 & 0.49 & 1.02 \\\\\nDiagnosis_Stomatch_A & 0.28 & 1.32 & 0.11 & 0.07 & 0.49 & 1.07 & 1.63 & 0.00 & 2.59 & 0.01 & 6.71 \\\\\nTE_RadiationTherapy & 0.15 & 1.16 & 0.09 & -0.02 & 0.32 & 0.98 & 1.38 & 0.00 & 1.71 & 0.09 & 3.52 \\\\\nTE_immunoTherapy & -0.12 & 0.89 & 0.08 & -0.28 & 0.04 & 0.75 & 1.04 & 0.00 & -1.48 & 0.14 & 2.84 \\\\\nTE_HormoneTherapy & -0.03 & 0.97 & 0.09 & -0.22 & 0.15 & 0.80 & 1.17 & 0.00 & -0.34 & 0.74 & 0.44 \\\\\nDiagnosis_ColonRectal_A & 0.05 & 1.05 & 0.09 & -0.12 & 0.23 & 0.88 & 1.26 & 0.00 & 0.59 & 0.55 & 0.85 \\\\\nDiagnosis_OvaryCervial_A & 0.10 & 1.11 & 0.09 & -0.07 & 0.27 & 0.93 & 1.31 & 0.00 & 1.16 & 0.25 & 2.02 \\\\\nDiagnosis_LiverBiliarytract_A & 0.17 & 1.19 & 0.09 & 0.00 & 0.34 & 1.00 & 1.41 & 0.00 & 2.00 & 0.05 & 4.47 \\\\\nDiagnosis_Pancreas_A & -0.20 & 0.82 & 0.12 & -0.43 & 0.03 & 0.65 & 1.03 & 0.00 & -1.67 & 0.09 & 3.41 \\\\\nDiagnosis_Esophagus_A & 0.02 & 1.02 & 0.08 & -0.15 & 0.18 & 0.86 & 1.20 & 0.00 & 0.19 & 0.85 & 0.24 \\\\\nDiagnosis_Headandneck_A & 0.01 & 1.01 & 0.09 & -0.17 & 0.19 & 0.84 & 1.21 & 0.00 & 0.09 & 0.93 & 0.11 \\\\\nDiagnosis_Softtissue_A & -0.16 & 0.86 & 0.09 & -0.34 & 0.03 & 0.71 & 1.03 & 0.00 & -1.66 & 0.10 & 3.36 \\\\\nDiagnosis_KidneyBlandder_A & -0.13 & 0.88 & 0.11 & -0.34 & 0.08 & 0.71 & 1.08 & 0.00 & -1.22 & 0.22 & 2.17 \\\\\n\\end{tabular}\n"
          },
          "metadata": {}
        }
      ]
    },
    {
      "cell_type": "markdown",
      "metadata": {
        "id": "s3HsaNTzxstw"
      },
      "source": [
        "**TASK 10:** Plot the survival function of the three first participants in the test subset (5 POINTS)."
      ]
    },
    {
      "cell_type": "code",
      "metadata": {
        "id": "lhItIS2Z0GpB",
        "colab": {
          "base_uri": "https://localhost:8080/",
          "height": 265
        },
        "outputId": "7d5faa3b-aebf-42a9-bb34-35c14a8f99ad"
      },
      "source": [
        "# Plot the survival function of the three first participants in the test subset\n",
        "participant1=0\n",
        "participant2=1\n",
        "participant3=2\n",
        "\n",
        "# YOUR CODES GO HERE\n",
        "plt.plot(cph.predict_survival_function(X_test.iloc[0,:]))\n",
        "plt.plot(cph.predict_survival_function(X_test.iloc[1,:]))\n",
        "plt.plot(cph.predict_survival_function(X_test.iloc[2,:]))\n",
        "plt.show()"
      ],
      "execution_count": 248,
      "outputs": [
        {
          "output_type": "display_data",
          "data": {
            "text/plain": [
              "<Figure size 432x288 with 1 Axes>"
            ],
            "image/png": "[encoded data removed]"
          },
          "metadata": {
            "needs_background": "light"
          }
        }
      ]
    },
    {
      "cell_type": "markdown",
      "source": [
        "As you could observe, they are 'proportional'."
      ],
      "metadata": {
        "id": "ZqlHG5nMQj5a"
      }
    },
    {
      "cell_type": "markdown",
      "metadata": {
        "id": "FRMrOrLMx709"
      },
      "source": [
        "**TASK 11:** Create a function that calculates the hazard ratio between two patients. This will tell us which of the two patients is at a higher risk (10 POINTS)."
      ]
    },
    {
      "cell_type": "code",
      "metadata": {
        "id": "zP348CZWeIG7"
      },
      "source": [
        "# Create a function that calculates the hazard ratio between two patients. This will tell us which patient is at a higher risk.\n",
        "def hazard_ratio(df, participant1, participant2, cph):\n",
        "    '''\n",
        "    Calculates the hazard ratio of participant1 vs participant 2 using\n",
        "    the coefficients of the CPH model.\n",
        "    \n",
        "    Inputs:\n",
        "        df: dataframe containing all the participants of the study subset\n",
        "        participant1: index of the first participant in the df.\n",
        "        participant2: index of the second participant in the df.\n",
        "        cph: CPH model obtained with lifelines\n",
        "    Outputs:\n",
        "        HR: hazard ratio of participant 1 vs participant 2\n",
        "    '''\n",
        "    # Normalize the dataset first\n",
        "    for i in df.columns:\n",
        "      if i!=\"Termination_Situation\":\n",
        "        df[i]=(df[i]-df[i].mean())/df[i].std()\n",
        "\n",
        "    \n",
        "    # Extract the patient's info\n",
        "    p1=df.iloc[participant1,:]\n",
        "    p2=df.iloc[participant2,:]\n",
        "\n",
        "    coeff=cph.hazard_ratios_\n",
        "\n",
        "    cumulative_product1=1\n",
        "    cumulative_product2=1\n",
        "    for i in range(len(list(cph.hazard_ratios_.index))):\n",
        "      cumulative_product1=cumulative_product1*coeff[i]**p1[i+2]\n",
        "      cumulative_product2=cumulative_product2*coeff[i]**p2[i+2]\n",
        "    \n",
        "    return cumulative_product1/cumulative_product2"
      ],
      "execution_count": 267,
      "outputs": []
    },
    {
      "cell_type": "code",
      "metadata": {
        "id": "X_uiybo2e2NW",
        "colab": {
          "base_uri": "https://localhost:8080/"
        },
        "outputId": "b50fce7a-30d2-4b9e-94b0-39af53c98a38"
      },
      "source": [
        "print('Participant 1 vs participant 2 Hazard Ratio: ' + str(hazard_ratio(df_cph, 2, 33,cph)))"
      ],
      "execution_count": 268,
      "outputs": [
        {
          "output_type": "stream",
          "name": "stdout",
          "text": [
            "Participant 1 vs participant 2 Hazard Ratio: 0.5972579460736442\n"
          ]
        }
      ]
    },
    {
      "cell_type": "markdown",
      "metadata": {
        "id": "Wk5SM6V1zE6Q"
      },
      "source": [
        "**TASK 12:** Create a function to calculate the concordance index of the CPH model already trained, employing the testing data (15 POINTS)."
      ]
    },
    {
      "cell_type": "code",
      "metadata": {
        "id": "j5VoeJJ7n9Gg"
      },
      "source": [
        "# concordance index function\n",
        "def c_index_mlma(df, TimeColumn, EventColumn, cph):\n",
        "    '''\n",
        "    Computes the C-Index employing the testing data and trained models.\n",
        "    \n",
        "   Inputs: \n",
        "      df: input dataframe\n",
        "      TimeColumn: name of the colum containing the event time\n",
        "      EventColumn: name of the column indicating if the event happened (1) or not (0)\n",
        "      cph: CPH model obtained with lifelines\n",
        "  Outputs:\n",
        "      CI: Concordance Index\n",
        "    '''\n",
        "    \n",
        "\n",
        "    \"\"\"\n",
        "     y_true (array): array of true event times\n",
        "        scores (array): model risk scores\n",
        "        event (array): indicator, 1 if event occurred at that index, 0 for censorship\n",
        "    \"\"\"\n",
        "    # YOUR CODES GO HERE\n",
        "\n",
        "    # normalize the data before feeding into the model\n",
        "\n",
        "    num_con=0\n",
        "    num_dis=0\n",
        "\n",
        "    for i in range(len(df)):\n",
        "      if i !=len(df)-1:\n",
        "        for j in range(len(df.iloc[i+1])):\n",
        "          # randomly select a pair of patient \n",
        "          p_1=df.iloc[i,:]\n",
        "          p_2=df.iloc[j,:]\n",
        "          # Compute their hazard\n",
        "          h1=cph.predict_partial_hazard(p_1).iloc[0]\n",
        "          h2=cph.predict_partial_hazard(p_2).iloc[0]\n",
        "          # get the survival time\n",
        "          s1=p_1[\"SurvivalTime\"]\n",
        "          s2=p_2[\"SurvivalTime\"]\n",
        "          # check if the pair is concordant or not\n",
        "          if s1>s2:\n",
        "            if h1<h2:\n",
        "              num_con+=1\n",
        "            else:\n",
        "              num_dis+=1\n",
        "          else:\n",
        "            if h1>h2:\n",
        "              num_con+=1\n",
        "            else:\n",
        "              num_dis+=1\n",
        "    CI=num_con/(num_con+num_dis)\n",
        "    \n",
        "    return CI   "
      ],
      "execution_count": 286,
      "outputs": []
    },
    {
      "cell_type": "code",
      "metadata": {
        "id": "xrqoV6ayrHuE",
        "colab": {
          "base_uri": "https://localhost:8080/"
        },
        "outputId": "f146ad9c-16a9-4ab0-a576-493d100649f6"
      },
      "source": [
        "# Concordance Index of the training data\n",
        "dfTrain=X_train\n",
        "TimeColumn='SurvivalTime'\n",
        "EventColumn='Termination_Situation'\n",
        "CI=c_index_mlma(dfTrain, TimeColumn, EventColumn, cph)\n",
        "print(CI)"
      ],
      "execution_count": 287,
      "outputs": [
        {
          "output_type": "stream",
          "name": "stdout",
          "text": [
            "0.6229909154437456\n"
          ]
        }
      ]
    },
    {
      "cell_type": "code",
      "metadata": {
        "id": "tlD4IDrZhxF6",
        "colab": {
          "base_uri": "https://localhost:8080/"
        },
        "outputId": "149e78c9-da15-4efa-ebb9-0e1faf2a01d9"
      },
      "source": [
        "# The result sholud be similar to the CI calculated by the lifelines library (+/- 0.01)\n",
        "print(cph.concordance_index_)"
      ],
      "execution_count": 288,
      "outputs": [
        {
          "output_type": "stream",
          "name": "stdout",
          "text": [
            "0.6286040649125572\n"
          ]
        }
      ]
    },
    {
      "cell_type": "code",
      "metadata": {
        "id": "_okvL81FsLZV",
        "colab": {
          "base_uri": "https://localhost:8080/"
        },
        "outputId": "f2a19be5-255a-4c54-bbba-df4e4ab9b8cc"
      },
      "source": [
        "# Concordance Index of the testing data\n",
        "dfTest=X_test\n",
        "TimeColumn='SurvivalTime'\n",
        "EventColumn='Termination_Situation'\n",
        "CI=c_index_mlma(dfTest, TimeColumn, EventColumn, cph)\n",
        "print(CI)"
      ],
      "execution_count": 289,
      "outputs": [
        {
          "output_type": "stream",
          "name": "stdout",
          "text": [
            "0.5584045584045584\n"
          ]
        }
      ]
    },
    {
      "cell_type": "markdown",
      "metadata": {
        "id": "xCxPloGu1Otd"
      },
      "source": [
        "**Survival Trees**\n",
        "\n",
        "Now, we are going to use a different type of multivariate analysis to calculate survival functions: ExtraSurvivalTrees. To perform this type of analysis, we will employ the [scikit-survival library](https://scikit-survival.readthedocs.io/en/stable/index.html).\n"
      ]
    },
    {
      "cell_type": "markdown",
      "metadata": {
        "id": "dNNOxZDV4osW"
      },
      "source": [
        "**TASK 13:** Train a estimator using the training subset (5 POINTS).\n",
        "\n",
        "\n",
        "\n"
      ]
    },
    {
      "cell_type": "code",
      "source": [
        "def convert_bool(x):\n",
        "  if x==2:\n",
        "    return True\n",
        "  else:\n",
        "    return False"
      ],
      "metadata": {
        "id": "-YXIRf4b872T"
      },
      "execution_count": 341,
      "outputs": []
    },
    {
      "cell_type": "code",
      "source": [
        "X=X_train.iloc[:,2:]\n",
        "y=X_train[[\"Termination_Situation\",\"SurvivalTime\"]]"
      ],
      "metadata": {
        "id": "6-i4dgG65DeU"
      },
      "execution_count": 344,
      "outputs": []
    },
    {
      "cell_type": "code",
      "source": [
        "y[\"Termination_Situation\"]=y[\"Termination_Situation\"].apply(convert_bool)"
      ],
      "metadata": {
        "colab": {
          "base_uri": "https://localhost:8080/"
        },
        "id": "puMwa2rf9DTd",
        "outputId": "cf48bdb4-b251-4b46-dfdc-6790087ef46a"
      },
      "execution_count": 346,
      "outputs": [
        {
          "output_type": "stream",
          "name": "stderr",
          "text": [
            "<ipython-input-346-8327f744107f>:1: SettingWithCopyWarning: \n",
            "A value is trying to be set on a copy of a slice from a DataFrame.\n",
            "Try using .loc[row_indexer,col_indexer] = value instead\n",
            "\n",
            "See the caveats in the documentation: https://pandas.pydata.org/pandas-docs/stable/user_guide/indexing.html#returning-a-view-versus-a-copy\n",
            "  y[\"Termination_Situation\"]=y[\"Termination_Situation\"].apply(convert_bool)\n"
          ]
        }
      ]
    },
    {
      "cell_type": "code",
      "source": [
        "y=y.to_records(index=False) # convert to structured array"
      ],
      "metadata": {
        "id": "bqxDYpG26osn"
      },
      "execution_count": 347,
      "outputs": []
    },
    {
      "cell_type": "code",
      "metadata": {
        "id": "2tIaOilspOoM"
      },
      "source": [
        "# YOUR CODES GO HERE\n",
        "estimator = ExtraSurvivalTrees().fit(X, y)"
      ],
      "execution_count": 349,
      "outputs": []
    },
    {
      "cell_type": "markdown",
      "metadata": {
        "id": "b5zjvAlP41r4"
      },
      "source": [
        "**TASK 14:** Calculate the C-I of the model when applied to the testing subset. Use the scikit-survival scoring functions to obtain the index. Compare this result with the C-I obtained with the CPH models (5 POINTS)."
      ]
    },
    {
      "cell_type": "markdown",
      "source": [
        "We can see that using tree performs better than using using regression. Since the CI score increase significantly"
      ],
      "metadata": {
        "id": "WAJVVGwt-goh"
      }
    },
    {
      "cell_type": "code",
      "metadata": {
        "id": "uF-l2RE6phyQ",
        "colab": {
          "base_uri": "https://localhost:8080/"
        },
        "outputId": "7dbf0082-d146-4dfc-b46f-8f80e67ea968"
      },
      "source": [
        "# YOUR CODES GO HERE\n",
        "X_1=X_test.iloc[:,2:]\n",
        "y_test=X_test[[\"Termination_Situation\",\"SurvivalTime\"]]\n",
        "y_test[\"Termination_Situation\"]=y_test[\"Termination_Situation\"].apply(convert_bool)\n",
        "y_test=y_test.to_records(index=False) # convert to structured array\n",
        "estimator.score(X_1,y_test)"
      ],
      "execution_count": 357,
      "outputs": [
        {
          "output_type": "stream",
          "name": "stderr",
          "text": [
            "<ipython-input-357-f6bdd7948f3c>:4: SettingWithCopyWarning: \n",
            "A value is trying to be set on a copy of a slice from a DataFrame.\n",
            "Try using .loc[row_indexer,col_indexer] = value instead\n",
            "\n",
            "See the caveats in the documentation: https://pandas.pydata.org/pandas-docs/stable/user_guide/indexing.html#returning-a-view-versus-a-copy\n",
            "  y_test[\"Termination_Situation\"]=y_test[\"Termination_Situation\"].apply(convert_bool)\n"
          ]
        },
        {
          "output_type": "execute_result",
          "data": {
            "text/plain": [
              "0.6914749661705006"
            ]
          },
          "metadata": {},
          "execution_count": 357
        }
      ]
    },
    {
      "cell_type": "markdown",
      "metadata": {
        "id": "MreLuxgV5Wp4"
      },
      "source": [
        "**TASK 15:** Calculate the survival function of the three first patients in the testing subset. Compare these survival functions with those obtained with the CPH models (5 POINTS)."
      ]
    },
    {
      "cell_type": "code",
      "source": [
        "prediction1.x"
      ],
      "metadata": {
        "colab": {
          "base_uri": "https://localhost:8080/"
        },
        "id": "OmnjcQekB09u",
        "outputId": "d8293670-3a1d-4146-f4f1-f512eb9ab473"
      },
      "execution_count": 381,
      "outputs": [
        {
          "output_type": "execute_result",
          "data": {
            "text/plain": [
              "array([-1.11079193, -1.09273761, -1.07468329, -1.05301811, -1.0241312 ,\n",
              "       -0.98802256, -0.98080083, -0.97357911, -0.96996824, -0.95552479,\n",
              "       -0.95191393, -0.94830306, -0.9446922 , -0.94108133, -0.91941615,\n",
              "       -0.90136183, -0.89775097, -0.88691838, -0.87608579, -0.85080974,\n",
              "       -0.84358802, -0.81831197, -0.81470111, -0.80386852, -0.80025765,\n",
              "       -0.79664679, -0.79303593, -0.77859247, -0.77498161, -0.74970556,\n",
              "       -0.74248384, -0.72081865, -0.71720779, -0.70276434, -0.69915347,\n",
              "       -0.69554261, -0.68109915, -0.65943397, -0.65582311, -0.63415793,\n",
              "       -0.61610361, -0.61249274, -0.59804929, -0.56555152, -0.52222115,\n",
              "       -0.51499943, -0.50055597, -0.49333424, -0.47889079, -0.47527993,\n",
              "       -0.44278215, -0.43917129, -0.43194956, -0.41389524, -0.40667352,\n",
              "       -0.40306265, -0.38139747, -0.37778661, -0.37417574, -0.3488997 ,\n",
              "       -0.33445624, -0.33084538, -0.31640193, -0.30556934, -0.28029329,\n",
              "       -0.27668243, -0.27307156, -0.2694607 , -0.26584984, -0.24418465,\n",
              "       -0.21890861, -0.21529774, -0.20807602, -0.16474565, -0.1503022 ,\n",
              "       -0.13585874, -0.10336097, -0.09252838, -0.0708632 , -0.01308938,\n",
              "       -0.00225679,  0.03746271,  0.0482953 ,  0.09884739,  0.10606912,\n",
              "        0.13495603,  0.14217776,  0.17106466,  0.22161676,  0.23606021,\n",
              "        0.24328194,  0.31549921,  0.31911007,  0.4057708 ,  0.43104685,\n",
              "        0.43465771,  0.5646488 ,  0.64769866,  0.68741816,  0.69825076,\n",
              "        0.93295689,  1.0015633 ,  1.01239589,  1.09544576,  1.15321957,\n",
              "        1.22904771,  1.23265857,  1.59374494,  1.90789007,  2.00538339,\n",
              "        2.24731126])"
            ]
          },
          "metadata": {},
          "execution_count": 381
        }
      ]
    },
    {
      "cell_type": "code",
      "metadata": {
        "id": "pt7AfxLbnCl7",
        "colab": {
          "base_uri": "https://localhost:8080/",
          "height": 265
        },
        "outputId": "1e0de1dc-6193-4b53-8604-6732b737ff37"
      },
      "source": [
        "## Plot the survival function for the three first patients in the testing subset\n",
        "\n",
        "# Plot the survival function of the three first participants in the test subset\n",
        "\n",
        "\n",
        "prediction1=estimator.predict_survival_function(X_1.iloc[:4])[0]\n",
        "prediction2=estimator.predict_survival_function(X_1.iloc[:4])[1]\n",
        "prediction3=estimator.predict_survival_function(X_1.iloc[:4])[2]\n",
        "# YOUR CODES GO HERE\n",
        "plt.plot(prediction1.x,prediction1.y)\n",
        "plt.plot(prediction2.x,prediction2.y)\n",
        "plt.plot(prediction3.x,prediction3.y)\n",
        "plt.show()"
      ],
      "execution_count": 383,
      "outputs": [
        {
          "output_type": "display_data",
          "data": {
            "text/plain": [
              "<Figure size 432x288 with 1 Axes>"
            ],
            "image/png": "[encoded data removed]"
          },
          "metadata": {
            "needs_background": "light"
          }
        }
      ]
    },
    {
      "cell_type": "markdown",
      "metadata": {
        "id": "yQVVEb0k3nFQ"
      },
      "source": [
        "As you can observe, these functions are not proportional. Their shape depends on the predictor variables of each patient."
      ]
    },
    {
      "cell_type": "markdown",
      "source": [
        "**TASK 16:**\n",
        "Please answer the questions below [4 POINTS]:\n",
        "\n",
        "In TASK 4, we split the dataset into two seperate sets for training (80%) and testing (20%). Considering the size of the dataset we use in this lab, do you think this split is a good choice？ Would you recommend a different method to train and validate models?"
      ],
      "metadata": {
        "id": "uWJRqlXIFiqK"
      }
    },
    {
      "cell_type": "markdown",
      "source": [
        "I would recommend using K-fold validation or leave-one-out validation since we only have limited and unbalanced data."
      ],
      "metadata": {
        "id": "4iBL-gFTGtQd"
      }
    },
    {
      "cell_type": "markdown",
      "metadata": {
        "id": "DocKLfTTXNKt"
      },
      "source": [
        "**BONUS TASK:** \n",
        "\n",
        "Using the decision tree code that you created in Lab 2 as a base, create your own Survival Tree algorithm, using the splitting criterion of your choice (you can use Logrank statistic or likelihood ratio statistic, as indicated in the course's slides). The algorithm should include the same hyper-parameters from Lab2 and also min_obs_leaf, which indicates the minimum number of observations that a leaf should have. Use the training subset to train a survival tree and represent the survival functions on the three first patients from the testing subset. (12 points)\n",
        "\n",
        "\n",
        "\n"
      ]
    },
    {
      "cell_type": "code",
      "source": [
        "# YOUR CODES GO HERE"
      ],
      "metadata": {
        "id": "5DibHFVXYBYj"
      },
      "execution_count": null,
      "outputs": []
    },
    {
      "cell_type": "markdown",
      "metadata": {
        "id": "cXK_GNmwUr4d"
      },
      "source": [
        "**TASK 17:** Execute the following cell to finish the lab (1 POINT)"
      ]
    },
    {
      "cell_type": "code",
      "metadata": {
        "id": "IGoJbmACAR8-"
      },
      "source": [
        "from IPython.display import HTML\n",
        "\n",
        "HTML('<iframe width=\"560\" height=\"315\" src=\"https://www.youtube.com/embed/WwJPoL5FLF8\" frameborder=\"0\" allow=\"accelerometer; autoplay; encrypted-media; gyroscope; picture-in-picture\" allowfullscreen></iframe>')\n"
      ],
      "execution_count": null,
      "outputs": []
    },
    {
      "cell_type": "markdown",
      "metadata": {
        "id": "rsWfq78fHpp6"
      },
      "source": [
        "**Congratulations!! You have finished Lab 3!!**"
      ]
    }
  ]
}